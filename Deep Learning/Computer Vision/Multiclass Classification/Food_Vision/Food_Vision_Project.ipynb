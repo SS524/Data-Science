{
  "nbformat": 4,
  "nbformat_minor": 0,
  "metadata": {
    "colab": {
      "name": "Food_Vision_Project",
      "provenance": [],
      "collapsed_sections": [],
      "authorship_tag": "ABX9TyNEYty95NdJ5wBSnsLNCyDQ",
      "include_colab_link": true
    },
    "kernelspec": {
      "name": "python3",
      "display_name": "Python 3"
    },
    "language_info": {
      "name": "python"
    },
    "widgets": {
      "application/vnd.jupyter.widget-state+json": {
        "a07182fb12e94e87ab9cae793029473c": {
          "model_module": "@jupyter-widgets/controls",
          "model_name": "HBoxModel",
          "model_module_version": "1.5.0",
          "state": {
            "_view_name": "HBoxView",
            "_dom_classes": [],
            "_model_name": "HBoxModel",
            "_view_module": "@jupyter-widgets/controls",
            "_model_module_version": "1.5.0",
            "_view_count": null,
            "_view_module_version": "1.5.0",
            "box_style": "",
            "layout": "IPY_MODEL_9258e4bc08f748448247ee7ca8e85e90",
            "_model_module": "@jupyter-widgets/controls",
            "children": [
              "IPY_MODEL_2c06303a846e463683344bfa4d78d05a",
              "IPY_MODEL_f246c7b51ad6424d99efa1749a9919e8",
              "IPY_MODEL_2b50984cbeae4e1d94cb55db4c861d79"
            ]
          }
        },
        "9258e4bc08f748448247ee7ca8e85e90": {
          "model_module": "@jupyter-widgets/base",
          "model_name": "LayoutModel",
          "model_module_version": "1.2.0",
          "state": {
            "_view_name": "LayoutView",
            "grid_template_rows": null,
            "right": null,
            "justify_content": null,
            "_view_module": "@jupyter-widgets/base",
            "overflow": null,
            "_model_module_version": "1.2.0",
            "_view_count": null,
            "flex_flow": null,
            "width": null,
            "min_width": null,
            "border": null,
            "align_items": null,
            "bottom": null,
            "_model_module": "@jupyter-widgets/base",
            "top": null,
            "grid_column": null,
            "overflow_y": null,
            "overflow_x": null,
            "grid_auto_flow": null,
            "grid_area": null,
            "grid_template_columns": null,
            "flex": null,
            "_model_name": "LayoutModel",
            "justify_items": null,
            "grid_row": null,
            "max_height": null,
            "align_content": null,
            "visibility": null,
            "align_self": null,
            "height": null,
            "min_height": null,
            "padding": null,
            "grid_auto_rows": null,
            "grid_gap": null,
            "max_width": null,
            "order": null,
            "_view_module_version": "1.2.0",
            "grid_template_areas": null,
            "object_position": null,
            "object_fit": null,
            "grid_auto_columns": null,
            "margin": null,
            "display": null,
            "left": null
          }
        },
        "2c06303a846e463683344bfa4d78d05a": {
          "model_module": "@jupyter-widgets/controls",
          "model_name": "HTMLModel",
          "model_module_version": "1.5.0",
          "state": {
            "_view_name": "HTMLView",
            "style": "IPY_MODEL_0ff073c5b75247c8b9e6a408c3462cc7",
            "_dom_classes": [],
            "description": "",
            "_model_name": "HTMLModel",
            "placeholder": "​",
            "_view_module": "@jupyter-widgets/controls",
            "_model_module_version": "1.5.0",
            "value": "Dl Completed...: 100%",
            "_view_count": null,
            "_view_module_version": "1.5.0",
            "description_tooltip": null,
            "_model_module": "@jupyter-widgets/controls",
            "layout": "IPY_MODEL_4c00c078448644efa9867e2198a5a7b3"
          }
        },
        "f246c7b51ad6424d99efa1749a9919e8": {
          "model_module": "@jupyter-widgets/controls",
          "model_name": "FloatProgressModel",
          "model_module_version": "1.5.0",
          "state": {
            "_view_name": "ProgressView",
            "style": "IPY_MODEL_1f6b654a3bba4f1aa96da6f3991496ee",
            "_dom_classes": [],
            "description": "",
            "_model_name": "FloatProgressModel",
            "bar_style": "success",
            "max": 1,
            "_view_module": "@jupyter-widgets/controls",
            "_model_module_version": "1.5.0",
            "value": 1,
            "_view_count": null,
            "_view_module_version": "1.5.0",
            "orientation": "horizontal",
            "min": 0,
            "description_tooltip": null,
            "_model_module": "@jupyter-widgets/controls",
            "layout": "IPY_MODEL_cbfb6530591c423eb09a36ac13f5cd14"
          }
        },
        "2b50984cbeae4e1d94cb55db4c861d79": {
          "model_module": "@jupyter-widgets/controls",
          "model_name": "HTMLModel",
          "model_module_version": "1.5.0",
          "state": {
            "_view_name": "HTMLView",
            "style": "IPY_MODEL_7e7a4a9aa80c48129629c107800f5c45",
            "_dom_classes": [],
            "description": "",
            "_model_name": "HTMLModel",
            "placeholder": "​",
            "_view_module": "@jupyter-widgets/controls",
            "_model_module_version": "1.5.0",
            "value": " 1/1 [05:12&lt;00:00, 207.43s/ url]",
            "_view_count": null,
            "_view_module_version": "1.5.0",
            "description_tooltip": null,
            "_model_module": "@jupyter-widgets/controls",
            "layout": "IPY_MODEL_1131ac2c0ee342b2bbe097c7baa39f17"
          }
        },
        "0ff073c5b75247c8b9e6a408c3462cc7": {
          "model_module": "@jupyter-widgets/controls",
          "model_name": "DescriptionStyleModel",
          "model_module_version": "1.5.0",
          "state": {
            "_view_name": "StyleView",
            "_model_name": "DescriptionStyleModel",
            "description_width": "",
            "_view_module": "@jupyter-widgets/base",
            "_model_module_version": "1.5.0",
            "_view_count": null,
            "_view_module_version": "1.2.0",
            "_model_module": "@jupyter-widgets/controls"
          }
        },
        "4c00c078448644efa9867e2198a5a7b3": {
          "model_module": "@jupyter-widgets/base",
          "model_name": "LayoutModel",
          "model_module_version": "1.2.0",
          "state": {
            "_view_name": "LayoutView",
            "grid_template_rows": null,
            "right": null,
            "justify_content": null,
            "_view_module": "@jupyter-widgets/base",
            "overflow": null,
            "_model_module_version": "1.2.0",
            "_view_count": null,
            "flex_flow": null,
            "width": null,
            "min_width": null,
            "border": null,
            "align_items": null,
            "bottom": null,
            "_model_module": "@jupyter-widgets/base",
            "top": null,
            "grid_column": null,
            "overflow_y": null,
            "overflow_x": null,
            "grid_auto_flow": null,
            "grid_area": null,
            "grid_template_columns": null,
            "flex": null,
            "_model_name": "LayoutModel",
            "justify_items": null,
            "grid_row": null,
            "max_height": null,
            "align_content": null,
            "visibility": null,
            "align_self": null,
            "height": null,
            "min_height": null,
            "padding": null,
            "grid_auto_rows": null,
            "grid_gap": null,
            "max_width": null,
            "order": null,
            "_view_module_version": "1.2.0",
            "grid_template_areas": null,
            "object_position": null,
            "object_fit": null,
            "grid_auto_columns": null,
            "margin": null,
            "display": null,
            "left": null
          }
        },
        "1f6b654a3bba4f1aa96da6f3991496ee": {
          "model_module": "@jupyter-widgets/controls",
          "model_name": "ProgressStyleModel",
          "model_module_version": "1.5.0",
          "state": {
            "_view_name": "StyleView",
            "_model_name": "ProgressStyleModel",
            "description_width": "",
            "_view_module": "@jupyter-widgets/base",
            "_model_module_version": "1.5.0",
            "_view_count": null,
            "_view_module_version": "1.2.0",
            "bar_color": null,
            "_model_module": "@jupyter-widgets/controls"
          }
        },
        "cbfb6530591c423eb09a36ac13f5cd14": {
          "model_module": "@jupyter-widgets/base",
          "model_name": "LayoutModel",
          "model_module_version": "1.2.0",
          "state": {
            "_view_name": "LayoutView",
            "grid_template_rows": null,
            "right": null,
            "justify_content": null,
            "_view_module": "@jupyter-widgets/base",
            "overflow": null,
            "_model_module_version": "1.2.0",
            "_view_count": null,
            "flex_flow": null,
            "width": "20px",
            "min_width": null,
            "border": null,
            "align_items": null,
            "bottom": null,
            "_model_module": "@jupyter-widgets/base",
            "top": null,
            "grid_column": null,
            "overflow_y": null,
            "overflow_x": null,
            "grid_auto_flow": null,
            "grid_area": null,
            "grid_template_columns": null,
            "flex": null,
            "_model_name": "LayoutModel",
            "justify_items": null,
            "grid_row": null,
            "max_height": null,
            "align_content": null,
            "visibility": null,
            "align_self": null,
            "height": null,
            "min_height": null,
            "padding": null,
            "grid_auto_rows": null,
            "grid_gap": null,
            "max_width": null,
            "order": null,
            "_view_module_version": "1.2.0",
            "grid_template_areas": null,
            "object_position": null,
            "object_fit": null,
            "grid_auto_columns": null,
            "margin": null,
            "display": null,
            "left": null
          }
        },
        "7e7a4a9aa80c48129629c107800f5c45": {
          "model_module": "@jupyter-widgets/controls",
          "model_name": "DescriptionStyleModel",
          "model_module_version": "1.5.0",
          "state": {
            "_view_name": "StyleView",
            "_model_name": "DescriptionStyleModel",
            "description_width": "",
            "_view_module": "@jupyter-widgets/base",
            "_model_module_version": "1.5.0",
            "_view_count": null,
            "_view_module_version": "1.2.0",
            "_model_module": "@jupyter-widgets/controls"
          }
        },
        "1131ac2c0ee342b2bbe097c7baa39f17": {
          "model_module": "@jupyter-widgets/base",
          "model_name": "LayoutModel",
          "model_module_version": "1.2.0",
          "state": {
            "_view_name": "LayoutView",
            "grid_template_rows": null,
            "right": null,
            "justify_content": null,
            "_view_module": "@jupyter-widgets/base",
            "overflow": null,
            "_model_module_version": "1.2.0",
            "_view_count": null,
            "flex_flow": null,
            "width": null,
            "min_width": null,
            "border": null,
            "align_items": null,
            "bottom": null,
            "_model_module": "@jupyter-widgets/base",
            "top": null,
            "grid_column": null,
            "overflow_y": null,
            "overflow_x": null,
            "grid_auto_flow": null,
            "grid_area": null,
            "grid_template_columns": null,
            "flex": null,
            "_model_name": "LayoutModel",
            "justify_items": null,
            "grid_row": null,
            "max_height": null,
            "align_content": null,
            "visibility": null,
            "align_self": null,
            "height": null,
            "min_height": null,
            "padding": null,
            "grid_auto_rows": null,
            "grid_gap": null,
            "max_width": null,
            "order": null,
            "_view_module_version": "1.2.0",
            "grid_template_areas": null,
            "object_position": null,
            "object_fit": null,
            "grid_auto_columns": null,
            "margin": null,
            "display": null,
            "left": null
          }
        },
        "0e5e61ae0e644a7c9b457c4fcae9d5a2": {
          "model_module": "@jupyter-widgets/controls",
          "model_name": "HBoxModel",
          "model_module_version": "1.5.0",
          "state": {
            "_view_name": "HBoxView",
            "_dom_classes": [],
            "_model_name": "HBoxModel",
            "_view_module": "@jupyter-widgets/controls",
            "_model_module_version": "1.5.0",
            "_view_count": null,
            "_view_module_version": "1.5.0",
            "box_style": "",
            "layout": "IPY_MODEL_afbf671f1cd743c195a4998140cac558",
            "_model_module": "@jupyter-widgets/controls",
            "children": [
              "IPY_MODEL_e8f2183928c84335ae68d11f9230da14",
              "IPY_MODEL_daabd4497cce480a810dbbeeab923896",
              "IPY_MODEL_5cf42a3ecf0b436a9f93569001fa8aa7"
            ]
          }
        },
        "afbf671f1cd743c195a4998140cac558": {
          "model_module": "@jupyter-widgets/base",
          "model_name": "LayoutModel",
          "model_module_version": "1.2.0",
          "state": {
            "_view_name": "LayoutView",
            "grid_template_rows": null,
            "right": null,
            "justify_content": null,
            "_view_module": "@jupyter-widgets/base",
            "overflow": null,
            "_model_module_version": "1.2.0",
            "_view_count": null,
            "flex_flow": null,
            "width": null,
            "min_width": null,
            "border": null,
            "align_items": null,
            "bottom": null,
            "_model_module": "@jupyter-widgets/base",
            "top": null,
            "grid_column": null,
            "overflow_y": null,
            "overflow_x": null,
            "grid_auto_flow": null,
            "grid_area": null,
            "grid_template_columns": null,
            "flex": null,
            "_model_name": "LayoutModel",
            "justify_items": null,
            "grid_row": null,
            "max_height": null,
            "align_content": null,
            "visibility": null,
            "align_self": null,
            "height": null,
            "min_height": null,
            "padding": null,
            "grid_auto_rows": null,
            "grid_gap": null,
            "max_width": null,
            "order": null,
            "_view_module_version": "1.2.0",
            "grid_template_areas": null,
            "object_position": null,
            "object_fit": null,
            "grid_auto_columns": null,
            "margin": null,
            "display": null,
            "left": null
          }
        },
        "e8f2183928c84335ae68d11f9230da14": {
          "model_module": "@jupyter-widgets/controls",
          "model_name": "HTMLModel",
          "model_module_version": "1.5.0",
          "state": {
            "_view_name": "HTMLView",
            "style": "IPY_MODEL_ef28b30a8a29428db788c05f95c97b02",
            "_dom_classes": [],
            "description": "",
            "_model_name": "HTMLModel",
            "placeholder": "​",
            "_view_module": "@jupyter-widgets/controls",
            "_model_module_version": "1.5.0",
            "value": "Dl Size...: 100%",
            "_view_count": null,
            "_view_module_version": "1.5.0",
            "description_tooltip": null,
            "_model_module": "@jupyter-widgets/controls",
            "layout": "IPY_MODEL_2fa1d9aab7234a9c8d1c92e05f70de04"
          }
        },
        "daabd4497cce480a810dbbeeab923896": {
          "model_module": "@jupyter-widgets/controls",
          "model_name": "FloatProgressModel",
          "model_module_version": "1.5.0",
          "state": {
            "_view_name": "ProgressView",
            "style": "IPY_MODEL_0e8016a3ad2c47129965942312e7166c",
            "_dom_classes": [],
            "description": "",
            "_model_name": "FloatProgressModel",
            "bar_style": "success",
            "max": 1,
            "_view_module": "@jupyter-widgets/controls",
            "_model_module_version": "1.5.0",
            "value": 1,
            "_view_count": null,
            "_view_module_version": "1.5.0",
            "orientation": "horizontal",
            "min": 0,
            "description_tooltip": null,
            "_model_module": "@jupyter-widgets/controls",
            "layout": "IPY_MODEL_6e9f26f6408a45d283fae12866803e3e"
          }
        },
        "5cf42a3ecf0b436a9f93569001fa8aa7": {
          "model_module": "@jupyter-widgets/controls",
          "model_name": "HTMLModel",
          "model_module_version": "1.5.0",
          "state": {
            "_view_name": "HTMLView",
            "style": "IPY_MODEL_8dbfbacacfa64d08a528e5ae3cae4ce0",
            "_dom_classes": [],
            "description": "",
            "_model_name": "HTMLModel",
            "placeholder": "​",
            "_view_module": "@jupyter-widgets/controls",
            "_model_module_version": "1.5.0",
            "value": " 4764/4764 [05:12&lt;00:00, 24.53 MiB/s]",
            "_view_count": null,
            "_view_module_version": "1.5.0",
            "description_tooltip": null,
            "_model_module": "@jupyter-widgets/controls",
            "layout": "IPY_MODEL_4b61052a48fc458fbd15f1dba9039b5e"
          }
        },
        "ef28b30a8a29428db788c05f95c97b02": {
          "model_module": "@jupyter-widgets/controls",
          "model_name": "DescriptionStyleModel",
          "model_module_version": "1.5.0",
          "state": {
            "_view_name": "StyleView",
            "_model_name": "DescriptionStyleModel",
            "description_width": "",
            "_view_module": "@jupyter-widgets/base",
            "_model_module_version": "1.5.0",
            "_view_count": null,
            "_view_module_version": "1.2.0",
            "_model_module": "@jupyter-widgets/controls"
          }
        },
        "2fa1d9aab7234a9c8d1c92e05f70de04": {
          "model_module": "@jupyter-widgets/base",
          "model_name": "LayoutModel",
          "model_module_version": "1.2.0",
          "state": {
            "_view_name": "LayoutView",
            "grid_template_rows": null,
            "right": null,
            "justify_content": null,
            "_view_module": "@jupyter-widgets/base",
            "overflow": null,
            "_model_module_version": "1.2.0",
            "_view_count": null,
            "flex_flow": null,
            "width": null,
            "min_width": null,
            "border": null,
            "align_items": null,
            "bottom": null,
            "_model_module": "@jupyter-widgets/base",
            "top": null,
            "grid_column": null,
            "overflow_y": null,
            "overflow_x": null,
            "grid_auto_flow": null,
            "grid_area": null,
            "grid_template_columns": null,
            "flex": null,
            "_model_name": "LayoutModel",
            "justify_items": null,
            "grid_row": null,
            "max_height": null,
            "align_content": null,
            "visibility": null,
            "align_self": null,
            "height": null,
            "min_height": null,
            "padding": null,
            "grid_auto_rows": null,
            "grid_gap": null,
            "max_width": null,
            "order": null,
            "_view_module_version": "1.2.0",
            "grid_template_areas": null,
            "object_position": null,
            "object_fit": null,
            "grid_auto_columns": null,
            "margin": null,
            "display": null,
            "left": null
          }
        },
        "0e8016a3ad2c47129965942312e7166c": {
          "model_module": "@jupyter-widgets/controls",
          "model_name": "ProgressStyleModel",
          "model_module_version": "1.5.0",
          "state": {
            "_view_name": "StyleView",
            "_model_name": "ProgressStyleModel",
            "description_width": "",
            "_view_module": "@jupyter-widgets/base",
            "_model_module_version": "1.5.0",
            "_view_count": null,
            "_view_module_version": "1.2.0",
            "bar_color": null,
            "_model_module": "@jupyter-widgets/controls"
          }
        },
        "6e9f26f6408a45d283fae12866803e3e": {
          "model_module": "@jupyter-widgets/base",
          "model_name": "LayoutModel",
          "model_module_version": "1.2.0",
          "state": {
            "_view_name": "LayoutView",
            "grid_template_rows": null,
            "right": null,
            "justify_content": null,
            "_view_module": "@jupyter-widgets/base",
            "overflow": null,
            "_model_module_version": "1.2.0",
            "_view_count": null,
            "flex_flow": null,
            "width": "20px",
            "min_width": null,
            "border": null,
            "align_items": null,
            "bottom": null,
            "_model_module": "@jupyter-widgets/base",
            "top": null,
            "grid_column": null,
            "overflow_y": null,
            "overflow_x": null,
            "grid_auto_flow": null,
            "grid_area": null,
            "grid_template_columns": null,
            "flex": null,
            "_model_name": "LayoutModel",
            "justify_items": null,
            "grid_row": null,
            "max_height": null,
            "align_content": null,
            "visibility": null,
            "align_self": null,
            "height": null,
            "min_height": null,
            "padding": null,
            "grid_auto_rows": null,
            "grid_gap": null,
            "max_width": null,
            "order": null,
            "_view_module_version": "1.2.0",
            "grid_template_areas": null,
            "object_position": null,
            "object_fit": null,
            "grid_auto_columns": null,
            "margin": null,
            "display": null,
            "left": null
          }
        },
        "8dbfbacacfa64d08a528e5ae3cae4ce0": {
          "model_module": "@jupyter-widgets/controls",
          "model_name": "DescriptionStyleModel",
          "model_module_version": "1.5.0",
          "state": {
            "_view_name": "StyleView",
            "_model_name": "DescriptionStyleModel",
            "description_width": "",
            "_view_module": "@jupyter-widgets/base",
            "_model_module_version": "1.5.0",
            "_view_count": null,
            "_view_module_version": "1.2.0",
            "_model_module": "@jupyter-widgets/controls"
          }
        },
        "4b61052a48fc458fbd15f1dba9039b5e": {
          "model_module": "@jupyter-widgets/base",
          "model_name": "LayoutModel",
          "model_module_version": "1.2.0",
          "state": {
            "_view_name": "LayoutView",
            "grid_template_rows": null,
            "right": null,
            "justify_content": null,
            "_view_module": "@jupyter-widgets/base",
            "overflow": null,
            "_model_module_version": "1.2.0",
            "_view_count": null,
            "flex_flow": null,
            "width": null,
            "min_width": null,
            "border": null,
            "align_items": null,
            "bottom": null,
            "_model_module": "@jupyter-widgets/base",
            "top": null,
            "grid_column": null,
            "overflow_y": null,
            "overflow_x": null,
            "grid_auto_flow": null,
            "grid_area": null,
            "grid_template_columns": null,
            "flex": null,
            "_model_name": "LayoutModel",
            "justify_items": null,
            "grid_row": null,
            "max_height": null,
            "align_content": null,
            "visibility": null,
            "align_self": null,
            "height": null,
            "min_height": null,
            "padding": null,
            "grid_auto_rows": null,
            "grid_gap": null,
            "max_width": null,
            "order": null,
            "_view_module_version": "1.2.0",
            "grid_template_areas": null,
            "object_position": null,
            "object_fit": null,
            "grid_auto_columns": null,
            "margin": null,
            "display": null,
            "left": null
          }
        },
        "715c3c26219a4cda9a09f8aa1d57ea20": {
          "model_module": "@jupyter-widgets/controls",
          "model_name": "HBoxModel",
          "model_module_version": "1.5.0",
          "state": {
            "_view_name": "HBoxView",
            "_dom_classes": [],
            "_model_name": "HBoxModel",
            "_view_module": "@jupyter-widgets/controls",
            "_model_module_version": "1.5.0",
            "_view_count": null,
            "_view_module_version": "1.5.0",
            "box_style": "",
            "layout": "IPY_MODEL_55a550b3d7b74ef58f8c040ee6ac9cd9",
            "_model_module": "@jupyter-widgets/controls",
            "children": [
              "IPY_MODEL_fad4332188ad4373b18d345e1e76eb4c",
              "IPY_MODEL_be939136b89348a48e21c0a2ae3e198f",
              "IPY_MODEL_50257c1f10b24eb48518d07b38722046"
            ]
          }
        },
        "55a550b3d7b74ef58f8c040ee6ac9cd9": {
          "model_module": "@jupyter-widgets/base",
          "model_name": "LayoutModel",
          "model_module_version": "1.2.0",
          "state": {
            "_view_name": "LayoutView",
            "grid_template_rows": null,
            "right": null,
            "justify_content": null,
            "_view_module": "@jupyter-widgets/base",
            "overflow": null,
            "_model_module_version": "1.2.0",
            "_view_count": null,
            "flex_flow": null,
            "width": null,
            "min_width": null,
            "border": null,
            "align_items": null,
            "bottom": null,
            "_model_module": "@jupyter-widgets/base",
            "top": null,
            "grid_column": null,
            "overflow_y": null,
            "overflow_x": null,
            "grid_auto_flow": null,
            "grid_area": null,
            "grid_template_columns": null,
            "flex": null,
            "_model_name": "LayoutModel",
            "justify_items": null,
            "grid_row": null,
            "max_height": null,
            "align_content": null,
            "visibility": null,
            "align_self": null,
            "height": null,
            "min_height": null,
            "padding": null,
            "grid_auto_rows": null,
            "grid_gap": null,
            "max_width": null,
            "order": null,
            "_view_module_version": "1.2.0",
            "grid_template_areas": null,
            "object_position": null,
            "object_fit": null,
            "grid_auto_columns": null,
            "margin": null,
            "display": null,
            "left": null
          }
        },
        "fad4332188ad4373b18d345e1e76eb4c": {
          "model_module": "@jupyter-widgets/controls",
          "model_name": "HTMLModel",
          "model_module_version": "1.5.0",
          "state": {
            "_view_name": "HTMLView",
            "style": "IPY_MODEL_30dfae6ebe8a4dac80da46305c43eaa8",
            "_dom_classes": [],
            "description": "",
            "_model_name": "HTMLModel",
            "placeholder": "​",
            "_view_module": "@jupyter-widgets/controls",
            "_model_module_version": "1.5.0",
            "value": "Extraction completed...: 100%",
            "_view_count": null,
            "_view_module_version": "1.5.0",
            "description_tooltip": null,
            "_model_module": "@jupyter-widgets/controls",
            "layout": "IPY_MODEL_ed7b9e78314a4ffab1a7d1cdb30361c1"
          }
        },
        "be939136b89348a48e21c0a2ae3e198f": {
          "model_module": "@jupyter-widgets/controls",
          "model_name": "FloatProgressModel",
          "model_module_version": "1.5.0",
          "state": {
            "_view_name": "ProgressView",
            "style": "IPY_MODEL_101d311bb67d48509fa5680db6244d29",
            "_dom_classes": [],
            "description": "",
            "_model_name": "FloatProgressModel",
            "bar_style": "success",
            "max": 1,
            "_view_module": "@jupyter-widgets/controls",
            "_model_module_version": "1.5.0",
            "value": 1,
            "_view_count": null,
            "_view_module_version": "1.5.0",
            "orientation": "horizontal",
            "min": 0,
            "description_tooltip": null,
            "_model_module": "@jupyter-widgets/controls",
            "layout": "IPY_MODEL_1c36f1ebf110454881bfd1c95bf80998"
          }
        },
        "50257c1f10b24eb48518d07b38722046": {
          "model_module": "@jupyter-widgets/controls",
          "model_name": "HTMLModel",
          "model_module_version": "1.5.0",
          "state": {
            "_view_name": "HTMLView",
            "style": "IPY_MODEL_c5dd6428cb5348c0949fae847d2d6af5",
            "_dom_classes": [],
            "description": "",
            "_model_name": "HTMLModel",
            "placeholder": "​",
            "_view_module": "@jupyter-widgets/controls",
            "_model_module_version": "1.5.0",
            "value": " 1/1 [05:12&lt;00:00, 312.77s/ file]",
            "_view_count": null,
            "_view_module_version": "1.5.0",
            "description_tooltip": null,
            "_model_module": "@jupyter-widgets/controls",
            "layout": "IPY_MODEL_ef3cbe54e5f24fcdbf35419f784242a5"
          }
        },
        "30dfae6ebe8a4dac80da46305c43eaa8": {
          "model_module": "@jupyter-widgets/controls",
          "model_name": "DescriptionStyleModel",
          "model_module_version": "1.5.0",
          "state": {
            "_view_name": "StyleView",
            "_model_name": "DescriptionStyleModel",
            "description_width": "",
            "_view_module": "@jupyter-widgets/base",
            "_model_module_version": "1.5.0",
            "_view_count": null,
            "_view_module_version": "1.2.0",
            "_model_module": "@jupyter-widgets/controls"
          }
        },
        "ed7b9e78314a4ffab1a7d1cdb30361c1": {
          "model_module": "@jupyter-widgets/base",
          "model_name": "LayoutModel",
          "model_module_version": "1.2.0",
          "state": {
            "_view_name": "LayoutView",
            "grid_template_rows": null,
            "right": null,
            "justify_content": null,
            "_view_module": "@jupyter-widgets/base",
            "overflow": null,
            "_model_module_version": "1.2.0",
            "_view_count": null,
            "flex_flow": null,
            "width": null,
            "min_width": null,
            "border": null,
            "align_items": null,
            "bottom": null,
            "_model_module": "@jupyter-widgets/base",
            "top": null,
            "grid_column": null,
            "overflow_y": null,
            "overflow_x": null,
            "grid_auto_flow": null,
            "grid_area": null,
            "grid_template_columns": null,
            "flex": null,
            "_model_name": "LayoutModel",
            "justify_items": null,
            "grid_row": null,
            "max_height": null,
            "align_content": null,
            "visibility": null,
            "align_self": null,
            "height": null,
            "min_height": null,
            "padding": null,
            "grid_auto_rows": null,
            "grid_gap": null,
            "max_width": null,
            "order": null,
            "_view_module_version": "1.2.0",
            "grid_template_areas": null,
            "object_position": null,
            "object_fit": null,
            "grid_auto_columns": null,
            "margin": null,
            "display": null,
            "left": null
          }
        },
        "101d311bb67d48509fa5680db6244d29": {
          "model_module": "@jupyter-widgets/controls",
          "model_name": "ProgressStyleModel",
          "model_module_version": "1.5.0",
          "state": {
            "_view_name": "StyleView",
            "_model_name": "ProgressStyleModel",
            "description_width": "",
            "_view_module": "@jupyter-widgets/base",
            "_model_module_version": "1.5.0",
            "_view_count": null,
            "_view_module_version": "1.2.0",
            "bar_color": null,
            "_model_module": "@jupyter-widgets/controls"
          }
        },
        "1c36f1ebf110454881bfd1c95bf80998": {
          "model_module": "@jupyter-widgets/base",
          "model_name": "LayoutModel",
          "model_module_version": "1.2.0",
          "state": {
            "_view_name": "LayoutView",
            "grid_template_rows": null,
            "right": null,
            "justify_content": null,
            "_view_module": "@jupyter-widgets/base",
            "overflow": null,
            "_model_module_version": "1.2.0",
            "_view_count": null,
            "flex_flow": null,
            "width": "20px",
            "min_width": null,
            "border": null,
            "align_items": null,
            "bottom": null,
            "_model_module": "@jupyter-widgets/base",
            "top": null,
            "grid_column": null,
            "overflow_y": null,
            "overflow_x": null,
            "grid_auto_flow": null,
            "grid_area": null,
            "grid_template_columns": null,
            "flex": null,
            "_model_name": "LayoutModel",
            "justify_items": null,
            "grid_row": null,
            "max_height": null,
            "align_content": null,
            "visibility": null,
            "align_self": null,
            "height": null,
            "min_height": null,
            "padding": null,
            "grid_auto_rows": null,
            "grid_gap": null,
            "max_width": null,
            "order": null,
            "_view_module_version": "1.2.0",
            "grid_template_areas": null,
            "object_position": null,
            "object_fit": null,
            "grid_auto_columns": null,
            "margin": null,
            "display": null,
            "left": null
          }
        },
        "c5dd6428cb5348c0949fae847d2d6af5": {
          "model_module": "@jupyter-widgets/controls",
          "model_name": "DescriptionStyleModel",
          "model_module_version": "1.5.0",
          "state": {
            "_view_name": "StyleView",
            "_model_name": "DescriptionStyleModel",
            "description_width": "",
            "_view_module": "@jupyter-widgets/base",
            "_model_module_version": "1.5.0",
            "_view_count": null,
            "_view_module_version": "1.2.0",
            "_model_module": "@jupyter-widgets/controls"
          }
        },
        "ef3cbe54e5f24fcdbf35419f784242a5": {
          "model_module": "@jupyter-widgets/base",
          "model_name": "LayoutModel",
          "model_module_version": "1.2.0",
          "state": {
            "_view_name": "LayoutView",
            "grid_template_rows": null,
            "right": null,
            "justify_content": null,
            "_view_module": "@jupyter-widgets/base",
            "overflow": null,
            "_model_module_version": "1.2.0",
            "_view_count": null,
            "flex_flow": null,
            "width": null,
            "min_width": null,
            "border": null,
            "align_items": null,
            "bottom": null,
            "_model_module": "@jupyter-widgets/base",
            "top": null,
            "grid_column": null,
            "overflow_y": null,
            "overflow_x": null,
            "grid_auto_flow": null,
            "grid_area": null,
            "grid_template_columns": null,
            "flex": null,
            "_model_name": "LayoutModel",
            "justify_items": null,
            "grid_row": null,
            "max_height": null,
            "align_content": null,
            "visibility": null,
            "align_self": null,
            "height": null,
            "min_height": null,
            "padding": null,
            "grid_auto_rows": null,
            "grid_gap": null,
            "max_width": null,
            "order": null,
            "_view_module_version": "1.2.0",
            "grid_template_areas": null,
            "object_position": null,
            "object_fit": null,
            "grid_auto_columns": null,
            "margin": null,
            "display": null,
            "left": null
          }
        },
        "54fe5c0ddc1b418ca676195970d6ab41": {
          "model_module": "@jupyter-widgets/controls",
          "model_name": "HBoxModel",
          "model_module_version": "1.5.0",
          "state": {
            "_view_name": "HBoxView",
            "_dom_classes": [],
            "_model_name": "HBoxModel",
            "_view_module": "@jupyter-widgets/controls",
            "_model_module_version": "1.5.0",
            "_view_count": null,
            "_view_module_version": "1.5.0",
            "box_style": "",
            "layout": "IPY_MODEL_522b08468065453e948206fff737fc2e",
            "_model_module": "@jupyter-widgets/controls",
            "children": [
              "IPY_MODEL_ef6ae38852d94f0b9bd6ed835363b08e",
              "IPY_MODEL_f69e06b4cfc54adc8377e3808066b9c9",
              "IPY_MODEL_42284f0920704ca198e2c243afacfa9b"
            ]
          }
        },
        "522b08468065453e948206fff737fc2e": {
          "model_module": "@jupyter-widgets/base",
          "model_name": "LayoutModel",
          "model_module_version": "1.2.0",
          "state": {
            "_view_name": "LayoutView",
            "grid_template_rows": null,
            "right": null,
            "justify_content": null,
            "_view_module": "@jupyter-widgets/base",
            "overflow": null,
            "_model_module_version": "1.2.0",
            "_view_count": null,
            "flex_flow": null,
            "width": null,
            "min_width": null,
            "border": null,
            "align_items": null,
            "bottom": null,
            "_model_module": "@jupyter-widgets/base",
            "top": null,
            "grid_column": null,
            "overflow_y": null,
            "overflow_x": null,
            "grid_auto_flow": null,
            "grid_area": null,
            "grid_template_columns": null,
            "flex": null,
            "_model_name": "LayoutModel",
            "justify_items": null,
            "grid_row": null,
            "max_height": null,
            "align_content": null,
            "visibility": null,
            "align_self": null,
            "height": null,
            "min_height": null,
            "padding": null,
            "grid_auto_rows": null,
            "grid_gap": null,
            "max_width": null,
            "order": null,
            "_view_module_version": "1.2.0",
            "grid_template_areas": null,
            "object_position": null,
            "object_fit": null,
            "grid_auto_columns": null,
            "margin": null,
            "display": null,
            "left": null
          }
        },
        "ef6ae38852d94f0b9bd6ed835363b08e": {
          "model_module": "@jupyter-widgets/controls",
          "model_name": "HTMLModel",
          "model_module_version": "1.5.0",
          "state": {
            "_view_name": "HTMLView",
            "style": "IPY_MODEL_623488badc274279934e9c691bd83d90",
            "_dom_classes": [],
            "description": "",
            "_model_name": "HTMLModel",
            "placeholder": "​",
            "_view_module": "@jupyter-widgets/controls",
            "_model_module_version": "1.5.0",
            "value": "",
            "_view_count": null,
            "_view_module_version": "1.5.0",
            "description_tooltip": null,
            "_model_module": "@jupyter-widgets/controls",
            "layout": "IPY_MODEL_7c5dc248b15649b9b7bd0828e0e31c81"
          }
        },
        "f69e06b4cfc54adc8377e3808066b9c9": {
          "model_module": "@jupyter-widgets/controls",
          "model_name": "FloatProgressModel",
          "model_module_version": "1.5.0",
          "state": {
            "_view_name": "ProgressView",
            "style": "IPY_MODEL_1f106fa0e2654a9aa85f3748ab642b7a",
            "_dom_classes": [],
            "description": "",
            "_model_name": "FloatProgressModel",
            "bar_style": "info",
            "max": 1,
            "_view_module": "@jupyter-widgets/controls",
            "_model_module_version": "1.5.0",
            "value": 1,
            "_view_count": null,
            "_view_module_version": "1.5.0",
            "orientation": "horizontal",
            "min": 0,
            "description_tooltip": null,
            "_model_module": "@jupyter-widgets/controls",
            "layout": "IPY_MODEL_f8cbc3723c6f46d4983afb3638dc267c"
          }
        },
        "42284f0920704ca198e2c243afacfa9b": {
          "model_module": "@jupyter-widgets/controls",
          "model_name": "HTMLModel",
          "model_module_version": "1.5.0",
          "state": {
            "_view_name": "HTMLView",
            "style": "IPY_MODEL_3e241c229bcb43bcba7f7cc56a91f871",
            "_dom_classes": [],
            "description": "",
            "_model_name": "HTMLModel",
            "placeholder": "​",
            "_view_module": "@jupyter-widgets/controls",
            "_model_module_version": "1.5.0",
            "value": " 75710/0 [01:58&lt;00:00, 595.33 examples/s]",
            "_view_count": null,
            "_view_module_version": "1.5.0",
            "description_tooltip": null,
            "_model_module": "@jupyter-widgets/controls",
            "layout": "IPY_MODEL_5b49fd0c64d645cfb79abc90e06206ac"
          }
        },
        "623488badc274279934e9c691bd83d90": {
          "model_module": "@jupyter-widgets/controls",
          "model_name": "DescriptionStyleModel",
          "model_module_version": "1.5.0",
          "state": {
            "_view_name": "StyleView",
            "_model_name": "DescriptionStyleModel",
            "description_width": "",
            "_view_module": "@jupyter-widgets/base",
            "_model_module_version": "1.5.0",
            "_view_count": null,
            "_view_module_version": "1.2.0",
            "_model_module": "@jupyter-widgets/controls"
          }
        },
        "7c5dc248b15649b9b7bd0828e0e31c81": {
          "model_module": "@jupyter-widgets/base",
          "model_name": "LayoutModel",
          "model_module_version": "1.2.0",
          "state": {
            "_view_name": "LayoutView",
            "grid_template_rows": null,
            "right": null,
            "justify_content": null,
            "_view_module": "@jupyter-widgets/base",
            "overflow": null,
            "_model_module_version": "1.2.0",
            "_view_count": null,
            "flex_flow": null,
            "width": null,
            "min_width": null,
            "border": null,
            "align_items": null,
            "bottom": null,
            "_model_module": "@jupyter-widgets/base",
            "top": null,
            "grid_column": null,
            "overflow_y": null,
            "overflow_x": null,
            "grid_auto_flow": null,
            "grid_area": null,
            "grid_template_columns": null,
            "flex": null,
            "_model_name": "LayoutModel",
            "justify_items": null,
            "grid_row": null,
            "max_height": null,
            "align_content": null,
            "visibility": null,
            "align_self": null,
            "height": null,
            "min_height": null,
            "padding": null,
            "grid_auto_rows": null,
            "grid_gap": null,
            "max_width": null,
            "order": null,
            "_view_module_version": "1.2.0",
            "grid_template_areas": null,
            "object_position": null,
            "object_fit": null,
            "grid_auto_columns": null,
            "margin": null,
            "display": null,
            "left": null
          }
        },
        "1f106fa0e2654a9aa85f3748ab642b7a": {
          "model_module": "@jupyter-widgets/controls",
          "model_name": "ProgressStyleModel",
          "model_module_version": "1.5.0",
          "state": {
            "_view_name": "StyleView",
            "_model_name": "ProgressStyleModel",
            "description_width": "",
            "_view_module": "@jupyter-widgets/base",
            "_model_module_version": "1.5.0",
            "_view_count": null,
            "_view_module_version": "1.2.0",
            "bar_color": null,
            "_model_module": "@jupyter-widgets/controls"
          }
        },
        "f8cbc3723c6f46d4983afb3638dc267c": {
          "model_module": "@jupyter-widgets/base",
          "model_name": "LayoutModel",
          "model_module_version": "1.2.0",
          "state": {
            "_view_name": "LayoutView",
            "grid_template_rows": null,
            "right": null,
            "justify_content": null,
            "_view_module": "@jupyter-widgets/base",
            "overflow": null,
            "_model_module_version": "1.2.0",
            "_view_count": null,
            "flex_flow": null,
            "width": "20px",
            "min_width": null,
            "border": null,
            "align_items": null,
            "bottom": null,
            "_model_module": "@jupyter-widgets/base",
            "top": null,
            "grid_column": null,
            "overflow_y": null,
            "overflow_x": null,
            "grid_auto_flow": null,
            "grid_area": null,
            "grid_template_columns": null,
            "flex": null,
            "_model_name": "LayoutModel",
            "justify_items": null,
            "grid_row": null,
            "max_height": null,
            "align_content": null,
            "visibility": null,
            "align_self": null,
            "height": null,
            "min_height": null,
            "padding": null,
            "grid_auto_rows": null,
            "grid_gap": null,
            "max_width": null,
            "order": null,
            "_view_module_version": "1.2.0",
            "grid_template_areas": null,
            "object_position": null,
            "object_fit": null,
            "grid_auto_columns": null,
            "margin": null,
            "display": null,
            "left": null
          }
        },
        "3e241c229bcb43bcba7f7cc56a91f871": {
          "model_module": "@jupyter-widgets/controls",
          "model_name": "DescriptionStyleModel",
          "model_module_version": "1.5.0",
          "state": {
            "_view_name": "StyleView",
            "_model_name": "DescriptionStyleModel",
            "description_width": "",
            "_view_module": "@jupyter-widgets/base",
            "_model_module_version": "1.5.0",
            "_view_count": null,
            "_view_module_version": "1.2.0",
            "_model_module": "@jupyter-widgets/controls"
          }
        },
        "5b49fd0c64d645cfb79abc90e06206ac": {
          "model_module": "@jupyter-widgets/base",
          "model_name": "LayoutModel",
          "model_module_version": "1.2.0",
          "state": {
            "_view_name": "LayoutView",
            "grid_template_rows": null,
            "right": null,
            "justify_content": null,
            "_view_module": "@jupyter-widgets/base",
            "overflow": null,
            "_model_module_version": "1.2.0",
            "_view_count": null,
            "flex_flow": null,
            "width": null,
            "min_width": null,
            "border": null,
            "align_items": null,
            "bottom": null,
            "_model_module": "@jupyter-widgets/base",
            "top": null,
            "grid_column": null,
            "overflow_y": null,
            "overflow_x": null,
            "grid_auto_flow": null,
            "grid_area": null,
            "grid_template_columns": null,
            "flex": null,
            "_model_name": "LayoutModel",
            "justify_items": null,
            "grid_row": null,
            "max_height": null,
            "align_content": null,
            "visibility": null,
            "align_self": null,
            "height": null,
            "min_height": null,
            "padding": null,
            "grid_auto_rows": null,
            "grid_gap": null,
            "max_width": null,
            "order": null,
            "_view_module_version": "1.2.0",
            "grid_template_areas": null,
            "object_position": null,
            "object_fit": null,
            "grid_auto_columns": null,
            "margin": null,
            "display": null,
            "left": null
          }
        },
        "3ca5231491524adf8cc08b1212dfeb8e": {
          "model_module": "@jupyter-widgets/controls",
          "model_name": "HBoxModel",
          "model_module_version": "1.5.0",
          "state": {
            "_view_name": "HBoxView",
            "_dom_classes": [],
            "_model_name": "HBoxModel",
            "_view_module": "@jupyter-widgets/controls",
            "_model_module_version": "1.5.0",
            "_view_count": null,
            "_view_module_version": "1.5.0",
            "box_style": "",
            "layout": "IPY_MODEL_49ca13377ef040b88debf51fd6262018",
            "_model_module": "@jupyter-widgets/controls",
            "children": [
              "IPY_MODEL_9f285fa7490a4420b7e29aae36f2b1a2",
              "IPY_MODEL_d6e0bb7d3fb9421eacd228d9a10a2e7a",
              "IPY_MODEL_991c75877de54abf9527f2d1c9ee5c08"
            ]
          }
        },
        "49ca13377ef040b88debf51fd6262018": {
          "model_module": "@jupyter-widgets/base",
          "model_name": "LayoutModel",
          "model_module_version": "1.2.0",
          "state": {
            "_view_name": "LayoutView",
            "grid_template_rows": null,
            "right": null,
            "justify_content": null,
            "_view_module": "@jupyter-widgets/base",
            "overflow": null,
            "_model_module_version": "1.2.0",
            "_view_count": null,
            "flex_flow": null,
            "width": null,
            "min_width": null,
            "border": null,
            "align_items": null,
            "bottom": null,
            "_model_module": "@jupyter-widgets/base",
            "top": null,
            "grid_column": null,
            "overflow_y": null,
            "overflow_x": null,
            "grid_auto_flow": null,
            "grid_area": null,
            "grid_template_columns": null,
            "flex": null,
            "_model_name": "LayoutModel",
            "justify_items": null,
            "grid_row": null,
            "max_height": null,
            "align_content": null,
            "visibility": null,
            "align_self": null,
            "height": null,
            "min_height": null,
            "padding": null,
            "grid_auto_rows": null,
            "grid_gap": null,
            "max_width": null,
            "order": null,
            "_view_module_version": "1.2.0",
            "grid_template_areas": null,
            "object_position": null,
            "object_fit": null,
            "grid_auto_columns": null,
            "margin": null,
            "display": null,
            "left": null
          }
        },
        "9f285fa7490a4420b7e29aae36f2b1a2": {
          "model_module": "@jupyter-widgets/controls",
          "model_name": "HTMLModel",
          "model_module_version": "1.5.0",
          "state": {
            "_view_name": "HTMLView",
            "style": "IPY_MODEL_eb7d6a680c164822b097408f7ceada1e",
            "_dom_classes": [],
            "description": "",
            "_model_name": "HTMLModel",
            "placeholder": "​",
            "_view_module": "@jupyter-widgets/controls",
            "_model_module_version": "1.5.0",
            "value": "100%",
            "_view_count": null,
            "_view_module_version": "1.5.0",
            "description_tooltip": null,
            "_model_module": "@jupyter-widgets/controls",
            "layout": "IPY_MODEL_a15ffa5b0803456690aa4b10fed13947"
          }
        },
        "d6e0bb7d3fb9421eacd228d9a10a2e7a": {
          "model_module": "@jupyter-widgets/controls",
          "model_name": "FloatProgressModel",
          "model_module_version": "1.5.0",
          "state": {
            "_view_name": "ProgressView",
            "style": "IPY_MODEL_b3fa384c277840318b02a72c07306884",
            "_dom_classes": [],
            "description": "",
            "_model_name": "FloatProgressModel",
            "bar_style": "danger",
            "max": 75750,
            "_view_module": "@jupyter-widgets/controls",
            "_model_module_version": "1.5.0",
            "value": 75749,
            "_view_count": null,
            "_view_module_version": "1.5.0",
            "orientation": "horizontal",
            "min": 0,
            "description_tooltip": null,
            "_model_module": "@jupyter-widgets/controls",
            "layout": "IPY_MODEL_632f677ca2a54fc8ab86771e276e1910"
          }
        },
        "991c75877de54abf9527f2d1c9ee5c08": {
          "model_module": "@jupyter-widgets/controls",
          "model_name": "HTMLModel",
          "model_module_version": "1.5.0",
          "state": {
            "_view_name": "HTMLView",
            "style": "IPY_MODEL_e498d9b5b1d84147b507bfb1f64fa034",
            "_dom_classes": [],
            "description": "",
            "_model_name": "HTMLModel",
            "placeholder": "​",
            "_view_module": "@jupyter-widgets/controls",
            "_model_module_version": "1.5.0",
            "value": " 75749/75750 [01:22&lt;00:00, 782.84 examples/s]",
            "_view_count": null,
            "_view_module_version": "1.5.0",
            "description_tooltip": null,
            "_model_module": "@jupyter-widgets/controls",
            "layout": "IPY_MODEL_57e14ea6717743478c61fef216edd719"
          }
        },
        "eb7d6a680c164822b097408f7ceada1e": {
          "model_module": "@jupyter-widgets/controls",
          "model_name": "DescriptionStyleModel",
          "model_module_version": "1.5.0",
          "state": {
            "_view_name": "StyleView",
            "_model_name": "DescriptionStyleModel",
            "description_width": "",
            "_view_module": "@jupyter-widgets/base",
            "_model_module_version": "1.5.0",
            "_view_count": null,
            "_view_module_version": "1.2.0",
            "_model_module": "@jupyter-widgets/controls"
          }
        },
        "a15ffa5b0803456690aa4b10fed13947": {
          "model_module": "@jupyter-widgets/base",
          "model_name": "LayoutModel",
          "model_module_version": "1.2.0",
          "state": {
            "_view_name": "LayoutView",
            "grid_template_rows": null,
            "right": null,
            "justify_content": null,
            "_view_module": "@jupyter-widgets/base",
            "overflow": null,
            "_model_module_version": "1.2.0",
            "_view_count": null,
            "flex_flow": null,
            "width": null,
            "min_width": null,
            "border": null,
            "align_items": null,
            "bottom": null,
            "_model_module": "@jupyter-widgets/base",
            "top": null,
            "grid_column": null,
            "overflow_y": null,
            "overflow_x": null,
            "grid_auto_flow": null,
            "grid_area": null,
            "grid_template_columns": null,
            "flex": null,
            "_model_name": "LayoutModel",
            "justify_items": null,
            "grid_row": null,
            "max_height": null,
            "align_content": null,
            "visibility": null,
            "align_self": null,
            "height": null,
            "min_height": null,
            "padding": null,
            "grid_auto_rows": null,
            "grid_gap": null,
            "max_width": null,
            "order": null,
            "_view_module_version": "1.2.0",
            "grid_template_areas": null,
            "object_position": null,
            "object_fit": null,
            "grid_auto_columns": null,
            "margin": null,
            "display": null,
            "left": null
          }
        },
        "b3fa384c277840318b02a72c07306884": {
          "model_module": "@jupyter-widgets/controls",
          "model_name": "ProgressStyleModel",
          "model_module_version": "1.5.0",
          "state": {
            "_view_name": "StyleView",
            "_model_name": "ProgressStyleModel",
            "description_width": "",
            "_view_module": "@jupyter-widgets/base",
            "_model_module_version": "1.5.0",
            "_view_count": null,
            "_view_module_version": "1.2.0",
            "bar_color": null,
            "_model_module": "@jupyter-widgets/controls"
          }
        },
        "632f677ca2a54fc8ab86771e276e1910": {
          "model_module": "@jupyter-widgets/base",
          "model_name": "LayoutModel",
          "model_module_version": "1.2.0",
          "state": {
            "_view_name": "LayoutView",
            "grid_template_rows": null,
            "right": null,
            "justify_content": null,
            "_view_module": "@jupyter-widgets/base",
            "overflow": null,
            "_model_module_version": "1.2.0",
            "_view_count": null,
            "flex_flow": null,
            "width": null,
            "min_width": null,
            "border": null,
            "align_items": null,
            "bottom": null,
            "_model_module": "@jupyter-widgets/base",
            "top": null,
            "grid_column": null,
            "overflow_y": null,
            "overflow_x": null,
            "grid_auto_flow": null,
            "grid_area": null,
            "grid_template_columns": null,
            "flex": null,
            "_model_name": "LayoutModel",
            "justify_items": null,
            "grid_row": null,
            "max_height": null,
            "align_content": null,
            "visibility": null,
            "align_self": null,
            "height": null,
            "min_height": null,
            "padding": null,
            "grid_auto_rows": null,
            "grid_gap": null,
            "max_width": null,
            "order": null,
            "_view_module_version": "1.2.0",
            "grid_template_areas": null,
            "object_position": null,
            "object_fit": null,
            "grid_auto_columns": null,
            "margin": null,
            "display": null,
            "left": null
          }
        },
        "e498d9b5b1d84147b507bfb1f64fa034": {
          "model_module": "@jupyter-widgets/controls",
          "model_name": "DescriptionStyleModel",
          "model_module_version": "1.5.0",
          "state": {
            "_view_name": "StyleView",
            "_model_name": "DescriptionStyleModel",
            "description_width": "",
            "_view_module": "@jupyter-widgets/base",
            "_model_module_version": "1.5.0",
            "_view_count": null,
            "_view_module_version": "1.2.0",
            "_model_module": "@jupyter-widgets/controls"
          }
        },
        "57e14ea6717743478c61fef216edd719": {
          "model_module": "@jupyter-widgets/base",
          "model_name": "LayoutModel",
          "model_module_version": "1.2.0",
          "state": {
            "_view_name": "LayoutView",
            "grid_template_rows": null,
            "right": null,
            "justify_content": null,
            "_view_module": "@jupyter-widgets/base",
            "overflow": null,
            "_model_module_version": "1.2.0",
            "_view_count": null,
            "flex_flow": null,
            "width": null,
            "min_width": null,
            "border": null,
            "align_items": null,
            "bottom": null,
            "_model_module": "@jupyter-widgets/base",
            "top": null,
            "grid_column": null,
            "overflow_y": null,
            "overflow_x": null,
            "grid_auto_flow": null,
            "grid_area": null,
            "grid_template_columns": null,
            "flex": null,
            "_model_name": "LayoutModel",
            "justify_items": null,
            "grid_row": null,
            "max_height": null,
            "align_content": null,
            "visibility": null,
            "align_self": null,
            "height": null,
            "min_height": null,
            "padding": null,
            "grid_auto_rows": null,
            "grid_gap": null,
            "max_width": null,
            "order": null,
            "_view_module_version": "1.2.0",
            "grid_template_areas": null,
            "object_position": null,
            "object_fit": null,
            "grid_auto_columns": null,
            "margin": null,
            "display": null,
            "left": null
          }
        },
        "776eeb3ba0ea4e74997bf49792c7176d": {
          "model_module": "@jupyter-widgets/controls",
          "model_name": "HBoxModel",
          "model_module_version": "1.5.0",
          "state": {
            "_view_name": "HBoxView",
            "_dom_classes": [],
            "_model_name": "HBoxModel",
            "_view_module": "@jupyter-widgets/controls",
            "_model_module_version": "1.5.0",
            "_view_count": null,
            "_view_module_version": "1.5.0",
            "box_style": "",
            "layout": "IPY_MODEL_412ccce2c6c54a71be484daecf4a7577",
            "_model_module": "@jupyter-widgets/controls",
            "children": [
              "IPY_MODEL_1dac9988ef974abfbfd3d7c551bc0b8c",
              "IPY_MODEL_fc443c8b8bd3410bb250e6eef89044be",
              "IPY_MODEL_a0cf4a0968dc408581bdcb870342580c"
            ]
          }
        },
        "412ccce2c6c54a71be484daecf4a7577": {
          "model_module": "@jupyter-widgets/base",
          "model_name": "LayoutModel",
          "model_module_version": "1.2.0",
          "state": {
            "_view_name": "LayoutView",
            "grid_template_rows": null,
            "right": null,
            "justify_content": null,
            "_view_module": "@jupyter-widgets/base",
            "overflow": null,
            "_model_module_version": "1.2.0",
            "_view_count": null,
            "flex_flow": null,
            "width": null,
            "min_width": null,
            "border": null,
            "align_items": null,
            "bottom": null,
            "_model_module": "@jupyter-widgets/base",
            "top": null,
            "grid_column": null,
            "overflow_y": null,
            "overflow_x": null,
            "grid_auto_flow": null,
            "grid_area": null,
            "grid_template_columns": null,
            "flex": null,
            "_model_name": "LayoutModel",
            "justify_items": null,
            "grid_row": null,
            "max_height": null,
            "align_content": null,
            "visibility": null,
            "align_self": null,
            "height": null,
            "min_height": null,
            "padding": null,
            "grid_auto_rows": null,
            "grid_gap": null,
            "max_width": null,
            "order": null,
            "_view_module_version": "1.2.0",
            "grid_template_areas": null,
            "object_position": null,
            "object_fit": null,
            "grid_auto_columns": null,
            "margin": null,
            "display": null,
            "left": null
          }
        },
        "1dac9988ef974abfbfd3d7c551bc0b8c": {
          "model_module": "@jupyter-widgets/controls",
          "model_name": "HTMLModel",
          "model_module_version": "1.5.0",
          "state": {
            "_view_name": "HTMLView",
            "style": "IPY_MODEL_afee79b99b3b4e878b44f8c55e9e8e6e",
            "_dom_classes": [],
            "description": "",
            "_model_name": "HTMLModel",
            "placeholder": "​",
            "_view_module": "@jupyter-widgets/controls",
            "_model_module_version": "1.5.0",
            "value": "",
            "_view_count": null,
            "_view_module_version": "1.5.0",
            "description_tooltip": null,
            "_model_module": "@jupyter-widgets/controls",
            "layout": "IPY_MODEL_5156b57534504495a6a4317ba5c3c808"
          }
        },
        "fc443c8b8bd3410bb250e6eef89044be": {
          "model_module": "@jupyter-widgets/controls",
          "model_name": "FloatProgressModel",
          "model_module_version": "1.5.0",
          "state": {
            "_view_name": "ProgressView",
            "style": "IPY_MODEL_c9566ea3827646e6b69659ba11c62124",
            "_dom_classes": [],
            "description": "",
            "_model_name": "FloatProgressModel",
            "bar_style": "info",
            "max": 1,
            "_view_module": "@jupyter-widgets/controls",
            "_model_module_version": "1.5.0",
            "value": 1,
            "_view_count": null,
            "_view_module_version": "1.5.0",
            "orientation": "horizontal",
            "min": 0,
            "description_tooltip": null,
            "_model_module": "@jupyter-widgets/controls",
            "layout": "IPY_MODEL_06ef8f7a82d0425a948f62bb071e8ebc"
          }
        },
        "a0cf4a0968dc408581bdcb870342580c": {
          "model_module": "@jupyter-widgets/controls",
          "model_name": "HTMLModel",
          "model_module_version": "1.5.0",
          "state": {
            "_view_name": "HTMLView",
            "style": "IPY_MODEL_dc0d8ddf4694480d864521e90bde3eba",
            "_dom_classes": [],
            "description": "",
            "_model_name": "HTMLModel",
            "placeholder": "​",
            "_view_module": "@jupyter-widgets/controls",
            "_model_module_version": "1.5.0",
            "value": " 25250/0 [01:07&lt;00:00, 390.99 examples/s]",
            "_view_count": null,
            "_view_module_version": "1.5.0",
            "description_tooltip": null,
            "_model_module": "@jupyter-widgets/controls",
            "layout": "IPY_MODEL_7cc028723e074b8cadc4c58a4a4d4e9f"
          }
        },
        "afee79b99b3b4e878b44f8c55e9e8e6e": {
          "model_module": "@jupyter-widgets/controls",
          "model_name": "DescriptionStyleModel",
          "model_module_version": "1.5.0",
          "state": {
            "_view_name": "StyleView",
            "_model_name": "DescriptionStyleModel",
            "description_width": "",
            "_view_module": "@jupyter-widgets/base",
            "_model_module_version": "1.5.0",
            "_view_count": null,
            "_view_module_version": "1.2.0",
            "_model_module": "@jupyter-widgets/controls"
          }
        },
        "5156b57534504495a6a4317ba5c3c808": {
          "model_module": "@jupyter-widgets/base",
          "model_name": "LayoutModel",
          "model_module_version": "1.2.0",
          "state": {
            "_view_name": "LayoutView",
            "grid_template_rows": null,
            "right": null,
            "justify_content": null,
            "_view_module": "@jupyter-widgets/base",
            "overflow": null,
            "_model_module_version": "1.2.0",
            "_view_count": null,
            "flex_flow": null,
            "width": null,
            "min_width": null,
            "border": null,
            "align_items": null,
            "bottom": null,
            "_model_module": "@jupyter-widgets/base",
            "top": null,
            "grid_column": null,
            "overflow_y": null,
            "overflow_x": null,
            "grid_auto_flow": null,
            "grid_area": null,
            "grid_template_columns": null,
            "flex": null,
            "_model_name": "LayoutModel",
            "justify_items": null,
            "grid_row": null,
            "max_height": null,
            "align_content": null,
            "visibility": null,
            "align_self": null,
            "height": null,
            "min_height": null,
            "padding": null,
            "grid_auto_rows": null,
            "grid_gap": null,
            "max_width": null,
            "order": null,
            "_view_module_version": "1.2.0",
            "grid_template_areas": null,
            "object_position": null,
            "object_fit": null,
            "grid_auto_columns": null,
            "margin": null,
            "display": null,
            "left": null
          }
        },
        "c9566ea3827646e6b69659ba11c62124": {
          "model_module": "@jupyter-widgets/controls",
          "model_name": "ProgressStyleModel",
          "model_module_version": "1.5.0",
          "state": {
            "_view_name": "StyleView",
            "_model_name": "ProgressStyleModel",
            "description_width": "",
            "_view_module": "@jupyter-widgets/base",
            "_model_module_version": "1.5.0",
            "_view_count": null,
            "_view_module_version": "1.2.0",
            "bar_color": null,
            "_model_module": "@jupyter-widgets/controls"
          }
        },
        "06ef8f7a82d0425a948f62bb071e8ebc": {
          "model_module": "@jupyter-widgets/base",
          "model_name": "LayoutModel",
          "model_module_version": "1.2.0",
          "state": {
            "_view_name": "LayoutView",
            "grid_template_rows": null,
            "right": null,
            "justify_content": null,
            "_view_module": "@jupyter-widgets/base",
            "overflow": null,
            "_model_module_version": "1.2.0",
            "_view_count": null,
            "flex_flow": null,
            "width": "20px",
            "min_width": null,
            "border": null,
            "align_items": null,
            "bottom": null,
            "_model_module": "@jupyter-widgets/base",
            "top": null,
            "grid_column": null,
            "overflow_y": null,
            "overflow_x": null,
            "grid_auto_flow": null,
            "grid_area": null,
            "grid_template_columns": null,
            "flex": null,
            "_model_name": "LayoutModel",
            "justify_items": null,
            "grid_row": null,
            "max_height": null,
            "align_content": null,
            "visibility": null,
            "align_self": null,
            "height": null,
            "min_height": null,
            "padding": null,
            "grid_auto_rows": null,
            "grid_gap": null,
            "max_width": null,
            "order": null,
            "_view_module_version": "1.2.0",
            "grid_template_areas": null,
            "object_position": null,
            "object_fit": null,
            "grid_auto_columns": null,
            "margin": null,
            "display": null,
            "left": null
          }
        },
        "dc0d8ddf4694480d864521e90bde3eba": {
          "model_module": "@jupyter-widgets/controls",
          "model_name": "DescriptionStyleModel",
          "model_module_version": "1.5.0",
          "state": {
            "_view_name": "StyleView",
            "_model_name": "DescriptionStyleModel",
            "description_width": "",
            "_view_module": "@jupyter-widgets/base",
            "_model_module_version": "1.5.0",
            "_view_count": null,
            "_view_module_version": "1.2.0",
            "_model_module": "@jupyter-widgets/controls"
          }
        },
        "7cc028723e074b8cadc4c58a4a4d4e9f": {
          "model_module": "@jupyter-widgets/base",
          "model_name": "LayoutModel",
          "model_module_version": "1.2.0",
          "state": {
            "_view_name": "LayoutView",
            "grid_template_rows": null,
            "right": null,
            "justify_content": null,
            "_view_module": "@jupyter-widgets/base",
            "overflow": null,
            "_model_module_version": "1.2.0",
            "_view_count": null,
            "flex_flow": null,
            "width": null,
            "min_width": null,
            "border": null,
            "align_items": null,
            "bottom": null,
            "_model_module": "@jupyter-widgets/base",
            "top": null,
            "grid_column": null,
            "overflow_y": null,
            "overflow_x": null,
            "grid_auto_flow": null,
            "grid_area": null,
            "grid_template_columns": null,
            "flex": null,
            "_model_name": "LayoutModel",
            "justify_items": null,
            "grid_row": null,
            "max_height": null,
            "align_content": null,
            "visibility": null,
            "align_self": null,
            "height": null,
            "min_height": null,
            "padding": null,
            "grid_auto_rows": null,
            "grid_gap": null,
            "max_width": null,
            "order": null,
            "_view_module_version": "1.2.0",
            "grid_template_areas": null,
            "object_position": null,
            "object_fit": null,
            "grid_auto_columns": null,
            "margin": null,
            "display": null,
            "left": null
          }
        },
        "efe2ae6a1fa1444da47030a73b2f9c70": {
          "model_module": "@jupyter-widgets/controls",
          "model_name": "HBoxModel",
          "model_module_version": "1.5.0",
          "state": {
            "_view_name": "HBoxView",
            "_dom_classes": [],
            "_model_name": "HBoxModel",
            "_view_module": "@jupyter-widgets/controls",
            "_model_module_version": "1.5.0",
            "_view_count": null,
            "_view_module_version": "1.5.0",
            "box_style": "",
            "layout": "IPY_MODEL_c201593dcc0745d3b2e5c1b24aaf8041",
            "_model_module": "@jupyter-widgets/controls",
            "children": [
              "IPY_MODEL_c8cf724c60cf45e5b7c6fbde687b423b",
              "IPY_MODEL_547ed2ac88444f05b36992f922b80480",
              "IPY_MODEL_4732ecec52174eb1b8627e9497d77d88"
            ]
          }
        },
        "c201593dcc0745d3b2e5c1b24aaf8041": {
          "model_module": "@jupyter-widgets/base",
          "model_name": "LayoutModel",
          "model_module_version": "1.2.0",
          "state": {
            "_view_name": "LayoutView",
            "grid_template_rows": null,
            "right": null,
            "justify_content": null,
            "_view_module": "@jupyter-widgets/base",
            "overflow": null,
            "_model_module_version": "1.2.0",
            "_view_count": null,
            "flex_flow": null,
            "width": null,
            "min_width": null,
            "border": null,
            "align_items": null,
            "bottom": null,
            "_model_module": "@jupyter-widgets/base",
            "top": null,
            "grid_column": null,
            "overflow_y": null,
            "overflow_x": null,
            "grid_auto_flow": null,
            "grid_area": null,
            "grid_template_columns": null,
            "flex": null,
            "_model_name": "LayoutModel",
            "justify_items": null,
            "grid_row": null,
            "max_height": null,
            "align_content": null,
            "visibility": null,
            "align_self": null,
            "height": null,
            "min_height": null,
            "padding": null,
            "grid_auto_rows": null,
            "grid_gap": null,
            "max_width": null,
            "order": null,
            "_view_module_version": "1.2.0",
            "grid_template_areas": null,
            "object_position": null,
            "object_fit": null,
            "grid_auto_columns": null,
            "margin": null,
            "display": null,
            "left": null
          }
        },
        "c8cf724c60cf45e5b7c6fbde687b423b": {
          "model_module": "@jupyter-widgets/controls",
          "model_name": "HTMLModel",
          "model_module_version": "1.5.0",
          "state": {
            "_view_name": "HTMLView",
            "style": "IPY_MODEL_d8eee8307ca949d5a1df75df604ff8ab",
            "_dom_classes": [],
            "description": "",
            "_model_name": "HTMLModel",
            "placeholder": "​",
            "_view_module": "@jupyter-widgets/controls",
            "_model_module_version": "1.5.0",
            "value": "100%",
            "_view_count": null,
            "_view_module_version": "1.5.0",
            "description_tooltip": null,
            "_model_module": "@jupyter-widgets/controls",
            "layout": "IPY_MODEL_4344c3a6ad334c7fb3b950621908083e"
          }
        },
        "547ed2ac88444f05b36992f922b80480": {
          "model_module": "@jupyter-widgets/controls",
          "model_name": "FloatProgressModel",
          "model_module_version": "1.5.0",
          "state": {
            "_view_name": "ProgressView",
            "style": "IPY_MODEL_fe3e05485af1411693546fbabe53a896",
            "_dom_classes": [],
            "description": "",
            "_model_name": "FloatProgressModel",
            "bar_style": "danger",
            "max": 25250,
            "_view_module": "@jupyter-widgets/controls",
            "_model_module_version": "1.5.0",
            "value": 25249,
            "_view_count": null,
            "_view_module_version": "1.5.0",
            "orientation": "horizontal",
            "min": 0,
            "description_tooltip": null,
            "_model_module": "@jupyter-widgets/controls",
            "layout": "IPY_MODEL_2a0edb4f970d45f9ae6c912c0376f7a1"
          }
        },
        "4732ecec52174eb1b8627e9497d77d88": {
          "model_module": "@jupyter-widgets/controls",
          "model_name": "HTMLModel",
          "model_module_version": "1.5.0",
          "state": {
            "_view_name": "HTMLView",
            "style": "IPY_MODEL_938f2f1d6566474cbc71339ae22c7341",
            "_dom_classes": [],
            "description": "",
            "_model_name": "HTMLModel",
            "placeholder": "​",
            "_view_module": "@jupyter-widgets/controls",
            "_model_module_version": "1.5.0",
            "value": " 25249/25250 [00:15&lt;00:00, 933.53 examples/s]",
            "_view_count": null,
            "_view_module_version": "1.5.0",
            "description_tooltip": null,
            "_model_module": "@jupyter-widgets/controls",
            "layout": "IPY_MODEL_14de1ec15a7d4289a3e0711c070610d4"
          }
        },
        "d8eee8307ca949d5a1df75df604ff8ab": {
          "model_module": "@jupyter-widgets/controls",
          "model_name": "DescriptionStyleModel",
          "model_module_version": "1.5.0",
          "state": {
            "_view_name": "StyleView",
            "_model_name": "DescriptionStyleModel",
            "description_width": "",
            "_view_module": "@jupyter-widgets/base",
            "_model_module_version": "1.5.0",
            "_view_count": null,
            "_view_module_version": "1.2.0",
            "_model_module": "@jupyter-widgets/controls"
          }
        },
        "4344c3a6ad334c7fb3b950621908083e": {
          "model_module": "@jupyter-widgets/base",
          "model_name": "LayoutModel",
          "model_module_version": "1.2.0",
          "state": {
            "_view_name": "LayoutView",
            "grid_template_rows": null,
            "right": null,
            "justify_content": null,
            "_view_module": "@jupyter-widgets/base",
            "overflow": null,
            "_model_module_version": "1.2.0",
            "_view_count": null,
            "flex_flow": null,
            "width": null,
            "min_width": null,
            "border": null,
            "align_items": null,
            "bottom": null,
            "_model_module": "@jupyter-widgets/base",
            "top": null,
            "grid_column": null,
            "overflow_y": null,
            "overflow_x": null,
            "grid_auto_flow": null,
            "grid_area": null,
            "grid_template_columns": null,
            "flex": null,
            "_model_name": "LayoutModel",
            "justify_items": null,
            "grid_row": null,
            "max_height": null,
            "align_content": null,
            "visibility": null,
            "align_self": null,
            "height": null,
            "min_height": null,
            "padding": null,
            "grid_auto_rows": null,
            "grid_gap": null,
            "max_width": null,
            "order": null,
            "_view_module_version": "1.2.0",
            "grid_template_areas": null,
            "object_position": null,
            "object_fit": null,
            "grid_auto_columns": null,
            "margin": null,
            "display": null,
            "left": null
          }
        },
        "fe3e05485af1411693546fbabe53a896": {
          "model_module": "@jupyter-widgets/controls",
          "model_name": "ProgressStyleModel",
          "model_module_version": "1.5.0",
          "state": {
            "_view_name": "StyleView",
            "_model_name": "ProgressStyleModel",
            "description_width": "",
            "_view_module": "@jupyter-widgets/base",
            "_model_module_version": "1.5.0",
            "_view_count": null,
            "_view_module_version": "1.2.0",
            "bar_color": null,
            "_model_module": "@jupyter-widgets/controls"
          }
        },
        "2a0edb4f970d45f9ae6c912c0376f7a1": {
          "model_module": "@jupyter-widgets/base",
          "model_name": "LayoutModel",
          "model_module_version": "1.2.0",
          "state": {
            "_view_name": "LayoutView",
            "grid_template_rows": null,
            "right": null,
            "justify_content": null,
            "_view_module": "@jupyter-widgets/base",
            "overflow": null,
            "_model_module_version": "1.2.0",
            "_view_count": null,
            "flex_flow": null,
            "width": null,
            "min_width": null,
            "border": null,
            "align_items": null,
            "bottom": null,
            "_model_module": "@jupyter-widgets/base",
            "top": null,
            "grid_column": null,
            "overflow_y": null,
            "overflow_x": null,
            "grid_auto_flow": null,
            "grid_area": null,
            "grid_template_columns": null,
            "flex": null,
            "_model_name": "LayoutModel",
            "justify_items": null,
            "grid_row": null,
            "max_height": null,
            "align_content": null,
            "visibility": null,
            "align_self": null,
            "height": null,
            "min_height": null,
            "padding": null,
            "grid_auto_rows": null,
            "grid_gap": null,
            "max_width": null,
            "order": null,
            "_view_module_version": "1.2.0",
            "grid_template_areas": null,
            "object_position": null,
            "object_fit": null,
            "grid_auto_columns": null,
            "margin": null,
            "display": null,
            "left": null
          }
        },
        "938f2f1d6566474cbc71339ae22c7341": {
          "model_module": "@jupyter-widgets/controls",
          "model_name": "DescriptionStyleModel",
          "model_module_version": "1.5.0",
          "state": {
            "_view_name": "StyleView",
            "_model_name": "DescriptionStyleModel",
            "description_width": "",
            "_view_module": "@jupyter-widgets/base",
            "_model_module_version": "1.5.0",
            "_view_count": null,
            "_view_module_version": "1.2.0",
            "_model_module": "@jupyter-widgets/controls"
          }
        },
        "14de1ec15a7d4289a3e0711c070610d4": {
          "model_module": "@jupyter-widgets/base",
          "model_name": "LayoutModel",
          "model_module_version": "1.2.0",
          "state": {
            "_view_name": "LayoutView",
            "grid_template_rows": null,
            "right": null,
            "justify_content": null,
            "_view_module": "@jupyter-widgets/base",
            "overflow": null,
            "_model_module_version": "1.2.0",
            "_view_count": null,
            "flex_flow": null,
            "width": null,
            "min_width": null,
            "border": null,
            "align_items": null,
            "bottom": null,
            "_model_module": "@jupyter-widgets/base",
            "top": null,
            "grid_column": null,
            "overflow_y": null,
            "overflow_x": null,
            "grid_auto_flow": null,
            "grid_area": null,
            "grid_template_columns": null,
            "flex": null,
            "_model_name": "LayoutModel",
            "justify_items": null,
            "grid_row": null,
            "max_height": null,
            "align_content": null,
            "visibility": null,
            "align_self": null,
            "height": null,
            "min_height": null,
            "padding": null,
            "grid_auto_rows": null,
            "grid_gap": null,
            "max_width": null,
            "order": null,
            "_view_module_version": "1.2.0",
            "grid_template_areas": null,
            "object_position": null,
            "object_fit": null,
            "grid_auto_columns": null,
            "margin": null,
            "display": null,
            "left": null
          }
        }
      }
    },
    "accelerator": "GPU"
  },
  "cells": [
    {
      "cell_type": "markdown",
      "metadata": {
        "id": "view-in-github",
        "colab_type": "text"
      },
      "source": [
        "<a href=\"https://colab.research.google.com/github/SS524/Data-Science/blob/main/Deep%20Learning/Computer%20Vision/Multiclass%20Classification/Food_Vision/Food_Vision_Project.ipynb\" target=\"_parent\"><img src=\"https://colab.research.google.com/assets/colab-badge.svg\" alt=\"Open In Colab\"/></a>"
      ]
    },
    {
      "cell_type": "code",
      "metadata": {
        "colab": {
          "base_uri": "https://localhost:8080/"
        },
        "id": "hlNh6WXS9uR6",
        "outputId": "ff7c1f01-ea94-43c3-f009-35241d47c3e0"
      },
      "source": [
        "!nvidia-smi -L"
      ],
      "execution_count": null,
      "outputs": [
        {
          "output_type": "stream",
          "text": [
            "GPU 0: Tesla K80 (UUID: GPU-741aaf3a-4bde-384c-ee2f-4e4769de3710)\n"
          ],
          "name": "stdout"
        }
      ]
    },
    {
      "cell_type": "code",
      "metadata": {
        "id": "vF0flUl1AY5M"
      },
      "source": [
        "## Get helper functions"
      ],
      "execution_count": null,
      "outputs": []
    },
    {
      "cell_type": "code",
      "metadata": {
        "colab": {
          "base_uri": "https://localhost:8080/"
        },
        "id": "kv7I_tQWBSLh",
        "outputId": "254e3089-55c6-4fee-854a-201861b9ccb4"
      },
      "source": [
        "!wget https://raw.githubusercontent.com/SS524/Data-Science/main/Deep%20Learning/Computer%20Vision/Multiclass%20Classification/Food_Vision/Extras/helper_function.py"
      ],
      "execution_count": null,
      "outputs": [
        {
          "output_type": "stream",
          "text": [
            "--2021-08-29 13:12:28--  https://raw.githubusercontent.com/SS524/Data-Science/main/Deep%20Learning/Computer%20Vision/Multiclass%20Classification/Food_Vision/Extras/helper_function.py\n",
            "Resolving raw.githubusercontent.com (raw.githubusercontent.com)... 185.199.111.133, 185.199.108.133, 185.199.109.133, ...\n",
            "Connecting to raw.githubusercontent.com (raw.githubusercontent.com)|185.199.111.133|:443... connected.\n",
            "HTTP request sent, awaiting response... 200 OK\n",
            "Length: 4142 (4.0K) [text/plain]\n",
            "Saving to: ‘helper_function.py’\n",
            "\n",
            "\rhelper_function.py    0%[                    ]       0  --.-KB/s               \rhelper_function.py  100%[===================>]   4.04K  --.-KB/s    in 0s      \n",
            "\n",
            "2021-08-29 13:12:28 (47.1 MB/s) - ‘helper_function.py’ saved [4142/4142]\n",
            "\n"
          ],
          "name": "stdout"
        }
      ]
    },
    {
      "cell_type": "code",
      "metadata": {
        "id": "PKSQaRQSBdD7"
      },
      "source": [
        "# import series of helper functions"
      ],
      "execution_count": null,
      "outputs": []
    },
    {
      "cell_type": "code",
      "metadata": {
        "id": "lEwPbopNBqsQ"
      },
      "source": [
        "from helper_function import plot_loss_curves,compare_historys"
      ],
      "execution_count": null,
      "outputs": []
    },
    {
      "cell_type": "code",
      "metadata": {
        "id": "BVmG_HBTBw_w"
      },
      "source": [
        " # use tensorflow dataset to download"
      ],
      "execution_count": null,
      "outputs": []
    },
    {
      "cell_type": "code",
      "metadata": {
        "id": "992c23xuDYTY"
      },
      "source": [
        "import tensorflow_datasets as tfds"
      ],
      "execution_count": null,
      "outputs": []
    },
    {
      "cell_type": "code",
      "metadata": {
        "colab": {
          "base_uri": "https://localhost:8080/"
        },
        "id": "LjPNrPtRD8AP",
        "outputId": "ee584a50-b145-4e04-a72d-fe9f44d2c6af"
      },
      "source": [
        "datasets_list=tfds.list_builders()\n",
        "print('food101' in datasets_list)"
      ],
      "execution_count": null,
      "outputs": [
        {
          "output_type": "stream",
          "text": [
            "True\n"
          ],
          "name": "stdout"
        }
      ]
    },
    {
      "cell_type": "code",
      "metadata": {
        "id": "eZsrH7cvEJgZ"
      },
      "source": [
        "# Load in the data"
      ],
      "execution_count": null,
      "outputs": []
    },
    {
      "cell_type": "code",
      "metadata": {
        "colab": {
          "base_uri": "https://localhost:8080/",
          "height": 296,
          "referenced_widgets": [
            "a07182fb12e94e87ab9cae793029473c",
            "9258e4bc08f748448247ee7ca8e85e90",
            "2c06303a846e463683344bfa4d78d05a",
            "f246c7b51ad6424d99efa1749a9919e8",
            "2b50984cbeae4e1d94cb55db4c861d79",
            "0ff073c5b75247c8b9e6a408c3462cc7",
            "4c00c078448644efa9867e2198a5a7b3",
            "1f6b654a3bba4f1aa96da6f3991496ee",
            "cbfb6530591c423eb09a36ac13f5cd14",
            "7e7a4a9aa80c48129629c107800f5c45",
            "1131ac2c0ee342b2bbe097c7baa39f17",
            "0e5e61ae0e644a7c9b457c4fcae9d5a2",
            "afbf671f1cd743c195a4998140cac558",
            "e8f2183928c84335ae68d11f9230da14",
            "daabd4497cce480a810dbbeeab923896",
            "5cf42a3ecf0b436a9f93569001fa8aa7",
            "ef28b30a8a29428db788c05f95c97b02",
            "2fa1d9aab7234a9c8d1c92e05f70de04",
            "0e8016a3ad2c47129965942312e7166c",
            "6e9f26f6408a45d283fae12866803e3e",
            "8dbfbacacfa64d08a528e5ae3cae4ce0",
            "4b61052a48fc458fbd15f1dba9039b5e",
            "715c3c26219a4cda9a09f8aa1d57ea20",
            "55a550b3d7b74ef58f8c040ee6ac9cd9",
            "fad4332188ad4373b18d345e1e76eb4c",
            "be939136b89348a48e21c0a2ae3e198f",
            "50257c1f10b24eb48518d07b38722046",
            "30dfae6ebe8a4dac80da46305c43eaa8",
            "ed7b9e78314a4ffab1a7d1cdb30361c1",
            "101d311bb67d48509fa5680db6244d29",
            "1c36f1ebf110454881bfd1c95bf80998",
            "c5dd6428cb5348c0949fae847d2d6af5",
            "ef3cbe54e5f24fcdbf35419f784242a5",
            "54fe5c0ddc1b418ca676195970d6ab41",
            "522b08468065453e948206fff737fc2e",
            "ef6ae38852d94f0b9bd6ed835363b08e",
            "f69e06b4cfc54adc8377e3808066b9c9",
            "42284f0920704ca198e2c243afacfa9b",
            "623488badc274279934e9c691bd83d90",
            "7c5dc248b15649b9b7bd0828e0e31c81",
            "1f106fa0e2654a9aa85f3748ab642b7a",
            "f8cbc3723c6f46d4983afb3638dc267c",
            "3e241c229bcb43bcba7f7cc56a91f871",
            "5b49fd0c64d645cfb79abc90e06206ac",
            "3ca5231491524adf8cc08b1212dfeb8e",
            "49ca13377ef040b88debf51fd6262018",
            "9f285fa7490a4420b7e29aae36f2b1a2",
            "d6e0bb7d3fb9421eacd228d9a10a2e7a",
            "991c75877de54abf9527f2d1c9ee5c08",
            "eb7d6a680c164822b097408f7ceada1e",
            "a15ffa5b0803456690aa4b10fed13947",
            "b3fa384c277840318b02a72c07306884",
            "632f677ca2a54fc8ab86771e276e1910",
            "e498d9b5b1d84147b507bfb1f64fa034",
            "57e14ea6717743478c61fef216edd719",
            "776eeb3ba0ea4e74997bf49792c7176d",
            "412ccce2c6c54a71be484daecf4a7577",
            "1dac9988ef974abfbfd3d7c551bc0b8c",
            "fc443c8b8bd3410bb250e6eef89044be",
            "a0cf4a0968dc408581bdcb870342580c",
            "afee79b99b3b4e878b44f8c55e9e8e6e",
            "5156b57534504495a6a4317ba5c3c808",
            "c9566ea3827646e6b69659ba11c62124",
            "06ef8f7a82d0425a948f62bb071e8ebc",
            "dc0d8ddf4694480d864521e90bde3eba",
            "7cc028723e074b8cadc4c58a4a4d4e9f",
            "efe2ae6a1fa1444da47030a73b2f9c70",
            "c201593dcc0745d3b2e5c1b24aaf8041",
            "c8cf724c60cf45e5b7c6fbde687b423b",
            "547ed2ac88444f05b36992f922b80480",
            "4732ecec52174eb1b8627e9497d77d88",
            "d8eee8307ca949d5a1df75df604ff8ab",
            "4344c3a6ad334c7fb3b950621908083e",
            "fe3e05485af1411693546fbabe53a896",
            "2a0edb4f970d45f9ae6c912c0376f7a1",
            "938f2f1d6566474cbc71339ae22c7341",
            "14de1ec15a7d4289a3e0711c070610d4"
          ]
        },
        "id": "1skwK90YEfWI",
        "outputId": "4a98f17d-c675-4a2e-9fa2-afeef03d1f85"
      },
      "source": [
        "(train_data,test_data),ds_info=tfds.load(name='food101',split=['train','validation'],\n",
        "                                         shuffle_files=True,\n",
        "                                         as_supervised=True,\n",
        "                                         with_info=True)"
      ],
      "execution_count": null,
      "outputs": [
        {
          "output_type": "stream",
          "text": [
            "\u001b[1mDownloading and preparing dataset food101/2.0.0 (download: 4.65 GiB, generated: Unknown size, total: 4.65 GiB) to /root/tensorflow_datasets/food101/2.0.0...\u001b[0m\n"
          ],
          "name": "stdout"
        },
        {
          "output_type": "display_data",
          "data": {
            "application/vnd.jupyter.widget-view+json": {
              "model_id": "a07182fb12e94e87ab9cae793029473c",
              "version_minor": 0,
              "version_major": 2
            },
            "text/plain": [
              "Dl Completed...: 0 url [00:00, ? url/s]"
            ]
          },
          "metadata": {}
        },
        {
          "output_type": "display_data",
          "data": {
            "application/vnd.jupyter.widget-view+json": {
              "model_id": "0e5e61ae0e644a7c9b457c4fcae9d5a2",
              "version_minor": 0,
              "version_major": 2
            },
            "text/plain": [
              "Dl Size...: 0 MiB [00:00, ? MiB/s]"
            ]
          },
          "metadata": {}
        },
        {
          "output_type": "display_data",
          "data": {
            "application/vnd.jupyter.widget-view+json": {
              "model_id": "715c3c26219a4cda9a09f8aa1d57ea20",
              "version_minor": 0,
              "version_major": 2
            },
            "text/plain": [
              "Extraction completed...: 0 file [00:00, ? file/s]"
            ]
          },
          "metadata": {}
        },
        {
          "output_type": "stream",
          "text": [
            "\n",
            "\n",
            "\n"
          ],
          "name": "stdout"
        },
        {
          "output_type": "display_data",
          "data": {
            "application/vnd.jupyter.widget-view+json": {
              "model_id": "54fe5c0ddc1b418ca676195970d6ab41",
              "version_minor": 0,
              "version_major": 2
            },
            "text/plain": [
              "0 examples [00:00, ? examples/s]"
            ]
          },
          "metadata": {}
        },
        {
          "output_type": "stream",
          "text": [
            "Shuffling and writing examples to /root/tensorflow_datasets/food101/2.0.0.incompleteI73T9M/food101-train.tfrecord\n"
          ],
          "name": "stdout"
        },
        {
          "output_type": "display_data",
          "data": {
            "application/vnd.jupyter.widget-view+json": {
              "model_id": "3ca5231491524adf8cc08b1212dfeb8e",
              "version_minor": 0,
              "version_major": 2
            },
            "text/plain": [
              "  0%|          | 0/75750 [00:00<?, ? examples/s]"
            ]
          },
          "metadata": {}
        },
        {
          "output_type": "display_data",
          "data": {
            "application/vnd.jupyter.widget-view+json": {
              "model_id": "776eeb3ba0ea4e74997bf49792c7176d",
              "version_minor": 0,
              "version_major": 2
            },
            "text/plain": [
              "0 examples [00:00, ? examples/s]"
            ]
          },
          "metadata": {}
        },
        {
          "output_type": "stream",
          "text": [
            "Shuffling and writing examples to /root/tensorflow_datasets/food101/2.0.0.incompleteI73T9M/food101-validation.tfrecord\n"
          ],
          "name": "stdout"
        },
        {
          "output_type": "display_data",
          "data": {
            "application/vnd.jupyter.widget-view+json": {
              "model_id": "efe2ae6a1fa1444da47030a73b2f9c70",
              "version_minor": 0,
              "version_major": 2
            },
            "text/plain": [
              "  0%|          | 0/25250 [00:00<?, ? examples/s]"
            ]
          },
          "metadata": {}
        },
        {
          "output_type": "stream",
          "text": [
            "\u001b[1mDataset food101 downloaded and prepared to /root/tensorflow_datasets/food101/2.0.0. Subsequent calls will reuse this data.\u001b[0m\n"
          ],
          "name": "stdout"
        }
      ]
    },
    {
      "cell_type": "code",
      "metadata": {
        "id": "OZMMDBEVFYlK",
        "colab": {
          "base_uri": "https://localhost:8080/"
        },
        "outputId": "68508ddf-bae0-4ad3-c7a5-5d1ddbef1b2f"
      },
      "source": [
        "ds_info.features"
      ],
      "execution_count": null,
      "outputs": [
        {
          "output_type": "execute_result",
          "data": {
            "text/plain": [
              "FeaturesDict({\n",
              "    'image': Image(shape=(None, None, 3), dtype=tf.uint8),\n",
              "    'label': ClassLabel(shape=(), dtype=tf.int64, num_classes=101),\n",
              "})"
            ]
          },
          "metadata": {},
          "execution_count": 12
        }
      ]
    },
    {
      "cell_type": "code",
      "metadata": {
        "id": "GrnDulGbUoVz"
      },
      "source": [
        "# Get the class name"
      ],
      "execution_count": null,
      "outputs": []
    },
    {
      "cell_type": "code",
      "metadata": {
        "colab": {
          "base_uri": "https://localhost:8080/"
        },
        "id": "uQESoUkPU2Bx",
        "outputId": "12c12b32-4a47-4349-eb68-b4a11b1776dc"
      },
      "source": [
        "class_names=ds_info.features['label'].names\n",
        "class_names[:10]"
      ],
      "execution_count": null,
      "outputs": [
        {
          "output_type": "execute_result",
          "data": {
            "text/plain": [
              "['apple_pie',\n",
              " 'baby_back_ribs',\n",
              " 'baklava',\n",
              " 'beef_carpaccio',\n",
              " 'beef_tartare',\n",
              " 'beet_salad',\n",
              " 'beignets',\n",
              " 'bibimbap',\n",
              " 'bread_pudding',\n",
              " 'breakfast_burrito']"
            ]
          },
          "metadata": {},
          "execution_count": 14
        }
      ]
    },
    {
      "cell_type": "code",
      "metadata": {
        "id": "2zgyQCuwVGIS"
      },
      "source": [
        "# Take one sample of the trained data"
      ],
      "execution_count": null,
      "outputs": []
    },
    {
      "cell_type": "code",
      "metadata": {
        "id": "aKT22kxwVtuY"
      },
      "source": [
        "train_data_one_sample=train_data.take(1)"
      ],
      "execution_count": null,
      "outputs": []
    },
    {
      "cell_type": "code",
      "metadata": {
        "colab": {
          "base_uri": "https://localhost:8080/"
        },
        "id": "__Uqm_dNVwcY",
        "outputId": "4c8a3931-cc19-4517-ff0b-7d89ed231052"
      },
      "source": [
        "train_data_one_sample"
      ],
      "execution_count": null,
      "outputs": [
        {
          "output_type": "execute_result",
          "data": {
            "text/plain": [
              "<TakeDataset shapes: ((None, None, 3), ()), types: (tf.uint8, tf.int64)>"
            ]
          },
          "metadata": {},
          "execution_count": 17
        }
      ]
    },
    {
      "cell_type": "code",
      "metadata": {
        "id": "f8NQaD-MV9VA"
      },
      "source": [
        "#output info about our training sample"
      ],
      "execution_count": null,
      "outputs": []
    },
    {
      "cell_type": "code",
      "metadata": {
        "colab": {
          "base_uri": "https://localhost:8080/"
        },
        "id": "hixW2gCXWKAJ",
        "outputId": "9f841564-7e1e-4184-fce8-397be495d551"
      },
      "source": [
        "for image,label in train_data_one_sample:\n",
        "  print(f\"\"\"\n",
        "    Image shape:{image.shape} \n",
        "    Image datatype:{image.dtype}\n",
        "    Target class from Food101 (tensor form):{label}\n",
        "    Class name (str form):{class_names[label.numpy()]}\n",
        "    \"\"\")"
      ],
      "execution_count": null,
      "outputs": [
        {
          "output_type": "stream",
          "text": [
            "\n",
            "    Image shape:(512, 512, 3) \n",
            "    Image datatype:<dtype: 'uint8'>\n",
            "    Target class from Food101 (tensor form):24\n",
            "    Class name (str form):clam_chowder\n",
            "    \n"
          ],
          "name": "stdout"
        }
      ]
    },
    {
      "cell_type": "code",
      "metadata": {
        "colab": {
          "base_uri": "https://localhost:8080/"
        },
        "id": "UYAdwh01WzFA",
        "outputId": "82f18f12-9bbd-488d-e016-42973416259d"
      },
      "source": [
        "image"
      ],
      "execution_count": null,
      "outputs": [
        {
          "output_type": "execute_result",
          "data": {
            "text/plain": [
              "<tf.Tensor: shape=(512, 512, 3), dtype=uint8, numpy=\n",
              "array([[[41, 32, 27],\n",
              "        [43, 34, 29],\n",
              "        [43, 34, 29],\n",
              "        ...,\n",
              "        [53, 50, 41],\n",
              "        [48, 48, 38],\n",
              "        [45, 45, 35]],\n",
              "\n",
              "       [[40, 31, 26],\n",
              "        [43, 34, 29],\n",
              "        [45, 36, 31],\n",
              "        ...,\n",
              "        [46, 43, 34],\n",
              "        [46, 46, 36],\n",
              "        [49, 49, 39]],\n",
              "\n",
              "       [[40, 31, 26],\n",
              "        [44, 35, 30],\n",
              "        [46, 37, 32],\n",
              "        ...,\n",
              "        [48, 45, 36],\n",
              "        [48, 48, 40],\n",
              "        [52, 52, 44]],\n",
              "\n",
              "       ...,\n",
              "\n",
              "       [[90, 78, 66],\n",
              "        [93, 81, 69],\n",
              "        [95, 83, 71],\n",
              "        ...,\n",
              "        [20,  8,  8],\n",
              "        [20,  8,  8],\n",
              "        [21,  9,  9]],\n",
              "\n",
              "       [[93, 81, 69],\n",
              "        [95, 83, 71],\n",
              "        [96, 84, 72],\n",
              "        ...,\n",
              "        [21,  9,  9],\n",
              "        [22, 10, 10],\n",
              "        [23, 11, 11]],\n",
              "\n",
              "       [[98, 86, 74],\n",
              "        [99, 87, 75],\n",
              "        [97, 85, 73],\n",
              "        ...,\n",
              "        [24, 12, 12],\n",
              "        [26, 14, 14],\n",
              "        [27, 15, 15]]], dtype=uint8)>"
            ]
          },
          "metadata": {},
          "execution_count": 20
        }
      ]
    },
    {
      "cell_type": "code",
      "metadata": {
        "id": "rgy-YrvtYqZH"
      },
      "source": [
        "import tensorflow as tf\n",
        "#checking max and min tensor value"
      ],
      "execution_count": null,
      "outputs": []
    },
    {
      "cell_type": "code",
      "metadata": {
        "colab": {
          "base_uri": "https://localhost:8080/"
        },
        "id": "uTmI0kkQY7wX",
        "outputId": "d608d833-e34f-490d-e8a3-3335753463de"
      },
      "source": [
        "tf.reduce_max(image) , tf.reduce_min(image)"
      ],
      "execution_count": null,
      "outputs": [
        {
          "output_type": "execute_result",
          "data": {
            "text/plain": [
              "(<tf.Tensor: shape=(), dtype=uint8, numpy=255>,\n",
              " <tf.Tensor: shape=(), dtype=uint8, numpy=1>)"
            ]
          },
          "metadata": {},
          "execution_count": 22
        }
      ]
    },
    {
      "cell_type": "code",
      "metadata": {
        "id": "HlAzMJFhZB4Y"
      },
      "source": [
        "import matplotlib.pyplot as plt\n"
      ],
      "execution_count": null,
      "outputs": []
    },
    {
      "cell_type": "code",
      "metadata": {
        "colab": {
          "base_uri": "https://localhost:8080/",
          "height": 281
        },
        "id": "N-optMRpZVi_",
        "outputId": "adc8628e-09ce-49be-8d33-01c7a40381a0"
      },
      "source": [
        "plt.imshow(image)\n",
        "plt.title(class_names[label.numpy()])\n",
        "plt.axis(False)"
      ],
      "execution_count": null,
      "outputs": [
        {
          "output_type": "execute_result",
          "data": {
            "text/plain": [
              "(-0.5, 511.5, 511.5, -0.5)"
            ]
          },
          "metadata": {},
          "execution_count": 24
        },
        {
          "output_type": "display_data",
          "data": {
            "image/png": "[encoded data removed]",
            "text/plain": [
              "<Figure size 432x288 with 1 Axes>"
            ]
          },
          "metadata": {
            "needs_background": "light"
          }
        }
      ]
    },
    {
      "cell_type": "code",
      "metadata": {
        "id": "lorXLvZNZqZ_"
      },
      "source": [
        "# Create Preprocessing functions for our data"
      ],
      "execution_count": null,
      "outputs": []
    },
    {
      "cell_type": "code",
      "metadata": {
        "id": "3GiDa20DaNA_"
      },
      "source": [
        "def preprocess_img(image,label,img_shape=224):\n",
        "  image=tf.image.resize(image,size=(img_shape,img_shape))   # resizing the image\n",
        "  return tf.cast(image,dtype=tf.float32),label # changing the datatype of input tensor"
      ],
      "execution_count": null,
      "outputs": []
    },
    {
      "cell_type": "code",
      "metadata": {
        "colab": {
          "base_uri": "https://localhost:8080/"
        },
        "id": "hQ-NXsKFcxNY",
        "outputId": "9c92d0c0-4aed-441e-8a86-5aeb39082066"
      },
      "source": [
        "preprocessed_img=preprocess_img(image,label)[0]\n",
        "print(f'image before preprocessing:\\n{image[:2]}...\\nShape:{image.shape},...\\Datatype:{image.dtype}')\n",
        "print(f'image after preprocessing:\\n{preprocessed_img[:2]}...\\nShape:{preprocessed_img.shape},...\\Datatype:{preprocessed_img.dtype}')"
      ],
      "execution_count": null,
      "outputs": [
        {
          "output_type": "stream",
          "text": [
            "image before preprocessing:\n",
            "[[[41 32 27]\n",
            "  [43 34 29]\n",
            "  [43 34 29]\n",
            "  ...\n",
            "  [53 50 41]\n",
            "  [48 48 38]\n",
            "  [45 45 35]]\n",
            "\n",
            " [[40 31 26]\n",
            "  [43 34 29]\n",
            "  [45 36 31]\n",
            "  ...\n",
            "  [46 43 34]\n",
            "  [46 46 36]\n",
            "  [49 49 39]]]...\n",
            "Shape:(512, 512, 3),...\\Datatype:<dtype: 'uint8'>\n",
            "image after preprocessing:\n",
            "[[[42.05612  33.05612  28.056124]\n",
            "  [42.09694  33.09694  28.09694 ]\n",
            "  [43.64796  34.21939  29.433674]\n",
            "  ...\n",
            "  [64.80089  55.586624 46.586624]\n",
            "  [50.622417 46.69386  37.69386 ]\n",
            "  [47.02044  47.02044  37.02044 ]]\n",
            "\n",
            " [[44.760204 35.760204 30.760204]\n",
            "  [46.066326 37.066326 32.066326]\n",
            "  [49.357147 39.928574 35.14286 ]\n",
            "  ...\n",
            "  [64.33646  56.78038  48.62224 ]\n",
            "  [53.836746 49.908188 40.908188]\n",
            "  [52.015156 50.224434 42.821342]]]...\n",
            "Shape:(224, 224, 3),...\\Datatype:<dtype: 'float32'>\n"
          ],
          "name": "stdout"
        }
      ]
    },
    {
      "cell_type": "code",
      "metadata": {
        "id": "D5dkiuIyj60e"
      },
      "source": [
        "# Batch and Prepare dataset"
      ],
      "execution_count": null,
      "outputs": []
    },
    {
      "cell_type": "code",
      "metadata": {
        "id": "zX-StkaQrkcS"
      },
      "source": [
        "train_data=train_data.map(map_func=preprocess_img,num_parallel_calls=tf.data.AUTOTUNE)\n",
        "#SHUFFLE TRAIN DATA AND TURN IT INTO BATCHES AND PREFETCH IT\n",
        "train_data=train_data.shuffle(buffer_size=1000).batch(batch_size=32).prefetch(buffer_size=tf.data.AUTOTUNE)\n",
        "test_data=test_data.map(map_func=preprocess_img,num_parallel_calls=tf.data.AUTOTUNE).batch(batch_size=32).prefetch(tf.data.AUTOTUNE)"
      ],
      "execution_count": null,
      "outputs": []
    },
    {
      "cell_type": "code",
      "metadata": {
        "colab": {
          "base_uri": "https://localhost:8080/"
        },
        "id": "bAwvGoajuKo6",
        "outputId": "5cb8e234-371b-4bac-dc67-01bae8192d1b"
      },
      "source": [
        "train_data , test_data"
      ],
      "execution_count": null,
      "outputs": [
        {
          "output_type": "execute_result",
          "data": {
            "text/plain": [
              "(<PrefetchDataset shapes: ((None, 224, 224, 3), (None,)), types: (tf.float32, tf.int64)>,\n",
              " <PrefetchDataset shapes: ((None, 224, 224, 3), (None,)), types: (tf.float32, tf.int64)>)"
            ]
          },
          "metadata": {},
          "execution_count": 30
        }
      ]
    },
    {
      "cell_type": "code",
      "metadata": {
        "id": "64_msmWZuQfR"
      },
      "source": [
        "# Create modelling callbacks"
      ],
      "execution_count": null,
      "outputs": []
    },
    {
      "cell_type": "code",
      "metadata": {
        "id": "Q58k8OZwwU-h"
      },
      "source": [
        "checkpoint_path='model_checkpoints/cp.ckpt'\n",
        "model_checkpoint=tf.keras.callbacks.ModelCheckpoint(\n",
        "    checkpoint_path,\n",
        "    monitor='val_accuracy',\n",
        "    save_best_only=True,\n",
        "    save_weights_only=True,\n",
        "    verbose=0\n",
        ")"
      ],
      "execution_count": null,
      "outputs": []
    },
    {
      "cell_type": "code",
      "metadata": {
        "id": "vrLs7a2ZyEfJ"
      },
      "source": [
        "# mixed precision training"
      ],
      "execution_count": null,
      "outputs": []
    },
    {
      "cell_type": "code",
      "metadata": {
        "id": "8HWffKlayfkX"
      },
      "source": [
        "# turn on mixed precision training"
      ],
      "execution_count": null,
      "outputs": []
    },
    {
      "cell_type": "code",
      "metadata": {
        "colab": {
          "base_uri": "https://localhost:8080/"
        },
        "id": "Tm8CdlaBzLeG",
        "outputId": "e421581d-3beb-4737-c379-fcc8663f26dc"
      },
      "source": [
        "from tensorflow.keras import mixed_precision\n",
        "mixed_precision.set_global_policy('mixed_float16')"
      ],
      "execution_count": null,
      "outputs": [
        {
          "output_type": "stream",
          "text": [
            "WARNING:tensorflow:Mixed precision compatibility check (mixed_float16): WARNING\n",
            "Your GPU may run slowly with dtype policy mixed_float16 because it does not have compute capability of at least 7.0. Your GPU:\n",
            "  Tesla K80, compute capability 3.7\n",
            "See https://developer.nvidia.com/cuda-gpus for a list of GPUs and their compute capabilities.\n",
            "If you will use compatible GPU(s) not attached to this host, e.g. by running a multi-worker model, you can ignore this warning. This message will only be logged once\n"
          ],
          "name": "stdout"
        },
        {
          "output_type": "stream",
          "text": [
            "WARNING:tensorflow:Mixed precision compatibility check (mixed_float16): WARNING\n",
            "Your GPU may run slowly with dtype policy mixed_float16 because it does not have compute capability of at least 7.0. Your GPU:\n",
            "  Tesla K80, compute capability 3.7\n",
            "See https://developer.nvidia.com/cuda-gpus for a list of GPUs and their compute capabilities.\n",
            "If you will use compatible GPU(s) not attached to this host, e.g. by running a multi-worker model, you can ignore this warning. This message will only be logged once\n"
          ],
          "name": "stderr"
        }
      ]
    },
    {
      "cell_type": "code",
      "metadata": {
        "colab": {
          "base_uri": "https://localhost:8080/"
        },
        "id": "b_Kplt1b0ETu",
        "outputId": "ef59b15d-5319-499e-e0ca-d84542ef5fe2"
      },
      "source": [
        "!nvidia-smi"
      ],
      "execution_count": null,
      "outputs": [
        {
          "output_type": "stream",
          "text": [
            "Sun Aug 29 13:22:47 2021       \n",
            "+-----------------------------------------------------------------------------+\n",
            "| NVIDIA-SMI 470.57.02    Driver Version: 460.32.03    CUDA Version: 11.2     |\n",
            "|-------------------------------+----------------------+----------------------+\n",
            "| GPU  Name        Persistence-M| Bus-Id        Disp.A | Volatile Uncorr. ECC |\n",
            "| Fan  Temp  Perf  Pwr:Usage/Cap|         Memory-Usage | GPU-Util  Compute M. |\n",
            "|                               |                      |               MIG M. |\n",
            "|===============================+======================+======================|\n",
            "|   0  Tesla K80           Off  | 00000000:00:04.0 Off |                    0 |\n",
            "| N/A   50C    P0    73W / 149W |    123MiB / 11441MiB |      0%      Default |\n",
            "|                               |                      |                  N/A |\n",
            "+-------------------------------+----------------------+----------------------+\n",
            "                                                                               \n",
            "+-----------------------------------------------------------------------------+\n",
            "| Processes:                                                                  |\n",
            "|  GPU   GI   CI        PID   Type   Process name                  GPU Memory |\n",
            "|        ID   ID                                                   Usage      |\n",
            "|=============================================================================|\n",
            "|  No running processes found                                                 |\n",
            "+-----------------------------------------------------------------------------+\n"
          ],
          "name": "stdout"
        }
      ]
    },
    {
      "cell_type": "code",
      "metadata": {
        "colab": {
          "base_uri": "https://localhost:8080/"
        },
        "id": "DvLMHvQM01YV",
        "outputId": "b2e79aac-58d9-4918-f260-1c4668367ab2"
      },
      "source": [
        "mixed_precision.global_policy()"
      ],
      "execution_count": null,
      "outputs": [
        {
          "output_type": "execute_result",
          "data": {
            "text/plain": [
              "<Policy \"mixed_float16\">"
            ]
          },
          "metadata": {},
          "execution_count": 37
        }
      ]
    },
    {
      "cell_type": "code",
      "metadata": {
        "id": "wbg4YEDq1dnh"
      },
      "source": [
        "from tensorflow.keras import layers\n",
        "from tensorflow.keras.layers.experimental import preprocessing"
      ],
      "execution_count": null,
      "outputs": []
    },
    {
      "cell_type": "code",
      "metadata": {
        "id": "ObKccQrnGKAM"
      },
      "source": [
        "# Create base model"
      ],
      "execution_count": null,
      "outputs": []
    },
    {
      "cell_type": "code",
      "metadata": {
        "colab": {
          "base_uri": "https://localhost:8080/"
        },
        "id": "xU3kYTRNJBf7",
        "outputId": "b9f28106-40d1-4a6c-ce20-2a0ebc569c72"
      },
      "source": [
        "input_shape=(224,224,3)\n",
        "base_model=tf.keras.applications.EfficientNetB0(include_top=False)\n",
        "base_model.trainable=False\n",
        "inputs=layers.Input(shape=input_shape,name='input_layers')\n",
        "x=base_model(inputs,training=False)\n",
        "x=layers.GlobalAveragePooling2D()(x)\n",
        "outputs=layers.Dense(len(class_names),activation='softmax',dtype=tf.float32,name='softmax_float32')(x)\n",
        "model=tf.keras.Model(inputs,outputs)\n",
        "\n"
      ],
      "execution_count": null,
      "outputs": [
        {
          "output_type": "stream",
          "text": [
            "Downloading data from https://storage.googleapis.com/keras-applications/efficientnetb0_notop.h5\n",
            "16711680/16705208 [==============================] - 0s 0us/step\n",
            "16719872/16705208 [==============================] - 0s 0us/step\n"
          ],
          "name": "stdout"
        }
      ]
    },
    {
      "cell_type": "code",
      "metadata": {
        "id": "ldDevinVMB6C"
      },
      "source": [
        "model.compile(loss=tf.keras.losses.SparseCategoricalCrossentropy(),\n",
        "              optimizer=tf.keras.optimizers.Adam(),\n",
        "              metrics=['accuracy'])"
      ],
      "execution_count": null,
      "outputs": []
    },
    {
      "cell_type": "code",
      "metadata": {
        "colab": {
          "base_uri": "https://localhost:8080/"
        },
        "id": "oH4TGglPM1CS",
        "outputId": "b4714a02-b42b-4b58-8aa7-552b9faa7117"
      },
      "source": [
        "model.summary()"
      ],
      "execution_count": null,
      "outputs": [
        {
          "output_type": "stream",
          "text": [
            "Model: \"model\"\n",
            "_________________________________________________________________\n",
            "Layer (type)                 Output Shape              Param #   \n",
            "=================================================================\n",
            "input_layers (InputLayer)    [(None, 224, 224, 3)]     0         \n",
            "_________________________________________________________________\n",
            "efficientnetb0 (Functional)  (None, None, None, 1280)  4049571   \n",
            "_________________________________________________________________\n",
            "global_average_pooling2d (Gl (None, 1280)              0         \n",
            "_________________________________________________________________\n",
            "softmax_float32 (Dense)      (None, 101)               129381    \n",
            "=================================================================\n",
            "Total params: 4,178,952\n",
            "Trainable params: 129,381\n",
            "Non-trainable params: 4,049,571\n",
            "_________________________________________________________________\n"
          ],
          "name": "stdout"
        }
      ]
    },
    {
      "cell_type": "code",
      "metadata": {
        "colab": {
          "base_uri": "https://localhost:8080/"
        },
        "id": "flKPEEzIM3bY",
        "outputId": "f22bdacc-008b-49c9-e765-5b525e967f44"
      },
      "source": [
        "# checking layer dtype policies\n",
        "for layer in model.layers:\n",
        "  print(layer.name,layer.trainable,layer.dtype,layer.dtype_policy)"
      ],
      "execution_count": null,
      "outputs": [
        {
          "output_type": "stream",
          "text": [
            "input_layers True float32 <Policy \"float32\">\n",
            "efficientnetb0 False float32 <Policy \"mixed_float16\">\n",
            "global_average_pooling2d True float32 <Policy \"mixed_float16\">\n",
            "softmax_float32 True float32 <Policy \"float32\">\n"
          ],
          "name": "stdout"
        }
      ]
    },
    {
      "cell_type": "code",
      "metadata": {
        "colab": {
          "base_uri": "https://localhost:8080/"
        },
        "id": "jQ5XYvoyNUU3",
        "outputId": "fbf34abd-619b-4c00-9f16-26e0a26b0c5f"
      },
      "source": [
        "for layer in model.layers[1].layers:\n",
        "  print(layer.name,layer.trainable,layer.dtype,layer.dtype_policy)"
      ],
      "execution_count": null,
      "outputs": [
        {
          "output_type": "stream",
          "text": [
            "input_1 False float32 <Policy \"float32\">\n",
            "rescaling False float32 <Policy \"mixed_float16\">\n",
            "normalization False float32 <Policy \"mixed_float16\">\n",
            "stem_conv_pad False float32 <Policy \"mixed_float16\">\n",
            "stem_conv False float32 <Policy \"mixed_float16\">\n",
            "stem_bn False float32 <Policy \"mixed_float16\">\n",
            "stem_activation False float32 <Policy \"mixed_float16\">\n",
            "block1a_dwconv False float32 <Policy \"mixed_float16\">\n",
            "block1a_bn False float32 <Policy \"mixed_float16\">\n",
            "block1a_activation False float32 <Policy \"mixed_float16\">\n",
            "block1a_se_squeeze False float32 <Policy \"mixed_float16\">\n",
            "block1a_se_reshape False float32 <Policy \"mixed_float16\">\n",
            "block1a_se_reduce False float32 <Policy \"mixed_float16\">\n",
            "block1a_se_expand False float32 <Policy \"mixed_float16\">\n",
            "block1a_se_excite False float32 <Policy \"mixed_float16\">\n",
            "block1a_project_conv False float32 <Policy \"mixed_float16\">\n",
            "block1a_project_bn False float32 <Policy \"mixed_float16\">\n",
            "block2a_expand_conv False float32 <Policy \"mixed_float16\">\n",
            "block2a_expand_bn False float32 <Policy \"mixed_float16\">\n",
            "block2a_expand_activation False float32 <Policy \"mixed_float16\">\n",
            "block2a_dwconv_pad False float32 <Policy \"mixed_float16\">\n",
            "block2a_dwconv False float32 <Policy \"mixed_float16\">\n",
            "block2a_bn False float32 <Policy \"mixed_float16\">\n",
            "block2a_activation False float32 <Policy \"mixed_float16\">\n",
            "block2a_se_squeeze False float32 <Policy \"mixed_float16\">\n",
            "block2a_se_reshape False float32 <Policy \"mixed_float16\">\n",
            "block2a_se_reduce False float32 <Policy \"mixed_float16\">\n",
            "block2a_se_expand False float32 <Policy \"mixed_float16\">\n",
            "block2a_se_excite False float32 <Policy \"mixed_float16\">\n",
            "block2a_project_conv False float32 <Policy \"mixed_float16\">\n",
            "block2a_project_bn False float32 <Policy \"mixed_float16\">\n",
            "block2b_expand_conv False float32 <Policy \"mixed_float16\">\n",
            "block2b_expand_bn False float32 <Policy \"mixed_float16\">\n",
            "block2b_expand_activation False float32 <Policy \"mixed_float16\">\n",
            "block2b_dwconv False float32 <Policy \"mixed_float16\">\n",
            "block2b_bn False float32 <Policy \"mixed_float16\">\n",
            "block2b_activation False float32 <Policy \"mixed_float16\">\n",
            "block2b_se_squeeze False float32 <Policy \"mixed_float16\">\n",
            "block2b_se_reshape False float32 <Policy \"mixed_float16\">\n",
            "block2b_se_reduce False float32 <Policy \"mixed_float16\">\n",
            "block2b_se_expand False float32 <Policy \"mixed_float16\">\n",
            "block2b_se_excite False float32 <Policy \"mixed_float16\">\n",
            "block2b_project_conv False float32 <Policy \"mixed_float16\">\n",
            "block2b_project_bn False float32 <Policy \"mixed_float16\">\n",
            "block2b_drop False float32 <Policy \"mixed_float16\">\n",
            "block2b_add False float32 <Policy \"mixed_float16\">\n",
            "block3a_expand_conv False float32 <Policy \"mixed_float16\">\n",
            "block3a_expand_bn False float32 <Policy \"mixed_float16\">\n",
            "block3a_expand_activation False float32 <Policy \"mixed_float16\">\n",
            "block3a_dwconv_pad False float32 <Policy \"mixed_float16\">\n",
            "block3a_dwconv False float32 <Policy \"mixed_float16\">\n",
            "block3a_bn False float32 <Policy \"mixed_float16\">\n",
            "block3a_activation False float32 <Policy \"mixed_float16\">\n",
            "block3a_se_squeeze False float32 <Policy \"mixed_float16\">\n",
            "block3a_se_reshape False float32 <Policy \"mixed_float16\">\n",
            "block3a_se_reduce False float32 <Policy \"mixed_float16\">\n",
            "block3a_se_expand False float32 <Policy \"mixed_float16\">\n",
            "block3a_se_excite False float32 <Policy \"mixed_float16\">\n",
            "block3a_project_conv False float32 <Policy \"mixed_float16\">\n",
            "block3a_project_bn False float32 <Policy \"mixed_float16\">\n",
            "block3b_expand_conv False float32 <Policy \"mixed_float16\">\n",
            "block3b_expand_bn False float32 <Policy \"mixed_float16\">\n",
            "block3b_expand_activation False float32 <Policy \"mixed_float16\">\n",
            "block3b_dwconv False float32 <Policy \"mixed_float16\">\n",
            "block3b_bn False float32 <Policy \"mixed_float16\">\n",
            "block3b_activation False float32 <Policy \"mixed_float16\">\n",
            "block3b_se_squeeze False float32 <Policy \"mixed_float16\">\n",
            "block3b_se_reshape False float32 <Policy \"mixed_float16\">\n",
            "block3b_se_reduce False float32 <Policy \"mixed_float16\">\n",
            "block3b_se_expand False float32 <Policy \"mixed_float16\">\n",
            "block3b_se_excite False float32 <Policy \"mixed_float16\">\n",
            "block3b_project_conv False float32 <Policy \"mixed_float16\">\n",
            "block3b_project_bn False float32 <Policy \"mixed_float16\">\n",
            "block3b_drop False float32 <Policy \"mixed_float16\">\n",
            "block3b_add False float32 <Policy \"mixed_float16\">\n",
            "block4a_expand_conv False float32 <Policy \"mixed_float16\">\n",
            "block4a_expand_bn False float32 <Policy \"mixed_float16\">\n",
            "block4a_expand_activation False float32 <Policy \"mixed_float16\">\n",
            "block4a_dwconv_pad False float32 <Policy \"mixed_float16\">\n",
            "block4a_dwconv False float32 <Policy \"mixed_float16\">\n",
            "block4a_bn False float32 <Policy \"mixed_float16\">\n",
            "block4a_activation False float32 <Policy \"mixed_float16\">\n",
            "block4a_se_squeeze False float32 <Policy \"mixed_float16\">\n",
            "block4a_se_reshape False float32 <Policy \"mixed_float16\">\n",
            "block4a_se_reduce False float32 <Policy \"mixed_float16\">\n",
            "block4a_se_expand False float32 <Policy \"mixed_float16\">\n",
            "block4a_se_excite False float32 <Policy \"mixed_float16\">\n",
            "block4a_project_conv False float32 <Policy \"mixed_float16\">\n",
            "block4a_project_bn False float32 <Policy \"mixed_float16\">\n",
            "block4b_expand_conv False float32 <Policy \"mixed_float16\">\n",
            "block4b_expand_bn False float32 <Policy \"mixed_float16\">\n",
            "block4b_expand_activation False float32 <Policy \"mixed_float16\">\n",
            "block4b_dwconv False float32 <Policy \"mixed_float16\">\n",
            "block4b_bn False float32 <Policy \"mixed_float16\">\n",
            "block4b_activation False float32 <Policy \"mixed_float16\">\n",
            "block4b_se_squeeze False float32 <Policy \"mixed_float16\">\n",
            "block4b_se_reshape False float32 <Policy \"mixed_float16\">\n",
            "block4b_se_reduce False float32 <Policy \"mixed_float16\">\n",
            "block4b_se_expand False float32 <Policy \"mixed_float16\">\n",
            "block4b_se_excite False float32 <Policy \"mixed_float16\">\n",
            "block4b_project_conv False float32 <Policy \"mixed_float16\">\n",
            "block4b_project_bn False float32 <Policy \"mixed_float16\">\n",
            "block4b_drop False float32 <Policy \"mixed_float16\">\n",
            "block4b_add False float32 <Policy \"mixed_float16\">\n",
            "block4c_expand_conv False float32 <Policy \"mixed_float16\">\n",
            "block4c_expand_bn False float32 <Policy \"mixed_float16\">\n",
            "block4c_expand_activation False float32 <Policy \"mixed_float16\">\n",
            "block4c_dwconv False float32 <Policy \"mixed_float16\">\n",
            "block4c_bn False float32 <Policy \"mixed_float16\">\n",
            "block4c_activation False float32 <Policy \"mixed_float16\">\n",
            "block4c_se_squeeze False float32 <Policy \"mixed_float16\">\n",
            "block4c_se_reshape False float32 <Policy \"mixed_float16\">\n",
            "block4c_se_reduce False float32 <Policy \"mixed_float16\">\n",
            "block4c_se_expand False float32 <Policy \"mixed_float16\">\n",
            "block4c_se_excite False float32 <Policy \"mixed_float16\">\n",
            "block4c_project_conv False float32 <Policy \"mixed_float16\">\n",
            "block4c_project_bn False float32 <Policy \"mixed_float16\">\n",
            "block4c_drop False float32 <Policy \"mixed_float16\">\n",
            "block4c_add False float32 <Policy \"mixed_float16\">\n",
            "block5a_expand_conv False float32 <Policy \"mixed_float16\">\n",
            "block5a_expand_bn False float32 <Policy \"mixed_float16\">\n",
            "block5a_expand_activation False float32 <Policy \"mixed_float16\">\n",
            "block5a_dwconv False float32 <Policy \"mixed_float16\">\n",
            "block5a_bn False float32 <Policy \"mixed_float16\">\n",
            "block5a_activation False float32 <Policy \"mixed_float16\">\n",
            "block5a_se_squeeze False float32 <Policy \"mixed_float16\">\n",
            "block5a_se_reshape False float32 <Policy \"mixed_float16\">\n",
            "block5a_se_reduce False float32 <Policy \"mixed_float16\">\n",
            "block5a_se_expand False float32 <Policy \"mixed_float16\">\n",
            "block5a_se_excite False float32 <Policy \"mixed_float16\">\n",
            "block5a_project_conv False float32 <Policy \"mixed_float16\">\n",
            "block5a_project_bn False float32 <Policy \"mixed_float16\">\n",
            "block5b_expand_conv False float32 <Policy \"mixed_float16\">\n",
            "block5b_expand_bn False float32 <Policy \"mixed_float16\">\n",
            "block5b_expand_activation False float32 <Policy \"mixed_float16\">\n",
            "block5b_dwconv False float32 <Policy \"mixed_float16\">\n",
            "block5b_bn False float32 <Policy \"mixed_float16\">\n",
            "block5b_activation False float32 <Policy \"mixed_float16\">\n",
            "block5b_se_squeeze False float32 <Policy \"mixed_float16\">\n",
            "block5b_se_reshape False float32 <Policy \"mixed_float16\">\n",
            "block5b_se_reduce False float32 <Policy \"mixed_float16\">\n",
            "block5b_se_expand False float32 <Policy \"mixed_float16\">\n",
            "block5b_se_excite False float32 <Policy \"mixed_float16\">\n",
            "block5b_project_conv False float32 <Policy \"mixed_float16\">\n",
            "block5b_project_bn False float32 <Policy \"mixed_float16\">\n",
            "block5b_drop False float32 <Policy \"mixed_float16\">\n",
            "block5b_add False float32 <Policy \"mixed_float16\">\n",
            "block5c_expand_conv False float32 <Policy \"mixed_float16\">\n",
            "block5c_expand_bn False float32 <Policy \"mixed_float16\">\n",
            "block5c_expand_activation False float32 <Policy \"mixed_float16\">\n",
            "block5c_dwconv False float32 <Policy \"mixed_float16\">\n",
            "block5c_bn False float32 <Policy \"mixed_float16\">\n",
            "block5c_activation False float32 <Policy \"mixed_float16\">\n",
            "block5c_se_squeeze False float32 <Policy \"mixed_float16\">\n",
            "block5c_se_reshape False float32 <Policy \"mixed_float16\">\n",
            "block5c_se_reduce False float32 <Policy \"mixed_float16\">\n",
            "block5c_se_expand False float32 <Policy \"mixed_float16\">\n",
            "block5c_se_excite False float32 <Policy \"mixed_float16\">\n",
            "block5c_project_conv False float32 <Policy \"mixed_float16\">\n",
            "block5c_project_bn False float32 <Policy \"mixed_float16\">\n",
            "block5c_drop False float32 <Policy \"mixed_float16\">\n",
            "block5c_add False float32 <Policy \"mixed_float16\">\n",
            "block6a_expand_conv False float32 <Policy \"mixed_float16\">\n",
            "block6a_expand_bn False float32 <Policy \"mixed_float16\">\n",
            "block6a_expand_activation False float32 <Policy \"mixed_float16\">\n",
            "block6a_dwconv_pad False float32 <Policy \"mixed_float16\">\n",
            "block6a_dwconv False float32 <Policy \"mixed_float16\">\n",
            "block6a_bn False float32 <Policy \"mixed_float16\">\n",
            "block6a_activation False float32 <Policy \"mixed_float16\">\n",
            "block6a_se_squeeze False float32 <Policy \"mixed_float16\">\n",
            "block6a_se_reshape False float32 <Policy \"mixed_float16\">\n",
            "block6a_se_reduce False float32 <Policy \"mixed_float16\">\n",
            "block6a_se_expand False float32 <Policy \"mixed_float16\">\n",
            "block6a_se_excite False float32 <Policy \"mixed_float16\">\n",
            "block6a_project_conv False float32 <Policy \"mixed_float16\">\n",
            "block6a_project_bn False float32 <Policy \"mixed_float16\">\n",
            "block6b_expand_conv False float32 <Policy \"mixed_float16\">\n",
            "block6b_expand_bn False float32 <Policy \"mixed_float16\">\n",
            "block6b_expand_activation False float32 <Policy \"mixed_float16\">\n",
            "block6b_dwconv False float32 <Policy \"mixed_float16\">\n",
            "block6b_bn False float32 <Policy \"mixed_float16\">\n",
            "block6b_activation False float32 <Policy \"mixed_float16\">\n",
            "block6b_se_squeeze False float32 <Policy \"mixed_float16\">\n",
            "block6b_se_reshape False float32 <Policy \"mixed_float16\">\n",
            "block6b_se_reduce False float32 <Policy \"mixed_float16\">\n",
            "block6b_se_expand False float32 <Policy \"mixed_float16\">\n",
            "block6b_se_excite False float32 <Policy \"mixed_float16\">\n",
            "block6b_project_conv False float32 <Policy \"mixed_float16\">\n",
            "block6b_project_bn False float32 <Policy \"mixed_float16\">\n",
            "block6b_drop False float32 <Policy \"mixed_float16\">\n",
            "block6b_add False float32 <Policy \"mixed_float16\">\n",
            "block6c_expand_conv False float32 <Policy \"mixed_float16\">\n",
            "block6c_expand_bn False float32 <Policy \"mixed_float16\">\n",
            "block6c_expand_activation False float32 <Policy \"mixed_float16\">\n",
            "block6c_dwconv False float32 <Policy \"mixed_float16\">\n",
            "block6c_bn False float32 <Policy \"mixed_float16\">\n",
            "block6c_activation False float32 <Policy \"mixed_float16\">\n",
            "block6c_se_squeeze False float32 <Policy \"mixed_float16\">\n",
            "block6c_se_reshape False float32 <Policy \"mixed_float16\">\n",
            "block6c_se_reduce False float32 <Policy \"mixed_float16\">\n",
            "block6c_se_expand False float32 <Policy \"mixed_float16\">\n",
            "block6c_se_excite False float32 <Policy \"mixed_float16\">\n",
            "block6c_project_conv False float32 <Policy \"mixed_float16\">\n",
            "block6c_project_bn False float32 <Policy \"mixed_float16\">\n",
            "block6c_drop False float32 <Policy \"mixed_float16\">\n",
            "block6c_add False float32 <Policy \"mixed_float16\">\n",
            "block6d_expand_conv False float32 <Policy \"mixed_float16\">\n",
            "block6d_expand_bn False float32 <Policy \"mixed_float16\">\n",
            "block6d_expand_activation False float32 <Policy \"mixed_float16\">\n",
            "block6d_dwconv False float32 <Policy \"mixed_float16\">\n",
            "block6d_bn False float32 <Policy \"mixed_float16\">\n",
            "block6d_activation False float32 <Policy \"mixed_float16\">\n",
            "block6d_se_squeeze False float32 <Policy \"mixed_float16\">\n",
            "block6d_se_reshape False float32 <Policy \"mixed_float16\">\n",
            "block6d_se_reduce False float32 <Policy \"mixed_float16\">\n",
            "block6d_se_expand False float32 <Policy \"mixed_float16\">\n",
            "block6d_se_excite False float32 <Policy \"mixed_float16\">\n",
            "block6d_project_conv False float32 <Policy \"mixed_float16\">\n",
            "block6d_project_bn False float32 <Policy \"mixed_float16\">\n",
            "block6d_drop False float32 <Policy \"mixed_float16\">\n",
            "block6d_add False float32 <Policy \"mixed_float16\">\n",
            "block7a_expand_conv False float32 <Policy \"mixed_float16\">\n",
            "block7a_expand_bn False float32 <Policy \"mixed_float16\">\n",
            "block7a_expand_activation False float32 <Policy \"mixed_float16\">\n",
            "block7a_dwconv False float32 <Policy \"mixed_float16\">\n",
            "block7a_bn False float32 <Policy \"mixed_float16\">\n",
            "block7a_activation False float32 <Policy \"mixed_float16\">\n",
            "block7a_se_squeeze False float32 <Policy \"mixed_float16\">\n",
            "block7a_se_reshape False float32 <Policy \"mixed_float16\">\n",
            "block7a_se_reduce False float32 <Policy \"mixed_float16\">\n",
            "block7a_se_expand False float32 <Policy \"mixed_float16\">\n",
            "block7a_se_excite False float32 <Policy \"mixed_float16\">\n",
            "block7a_project_conv False float32 <Policy \"mixed_float16\">\n",
            "block7a_project_bn False float32 <Policy \"mixed_float16\">\n",
            "top_conv False float32 <Policy \"mixed_float16\">\n",
            "top_bn False float32 <Policy \"mixed_float16\">\n",
            "top_activation False float32 <Policy \"mixed_float16\">\n"
          ],
          "name": "stdout"
        }
      ]
    },
    {
      "cell_type": "code",
      "metadata": {
        "id": "ETCesEosOWYV"
      },
      "source": [
        "# fit the feature extraction models with callback"
      ],
      "execution_count": null,
      "outputs": []
    },
    {
      "cell_type": "code",
      "metadata": {
        "colab": {
          "base_uri": "https://localhost:8080/"
        },
        "id": "95e0niwePYtf",
        "outputId": "3a5525ef-1bf4-49f5-c992-63817f458d17"
      },
      "source": [
        "history_101_food_classes_feature_extract=model.fit(\n",
        "    train_data,\n",
        "    epochs=3,\n",
        "    steps_per_epoch=len(train_data),\n",
        "    validation_data=test_data,\n",
        "    validation_steps=int(0.15*len(test_data)),\n",
        "    callbacks=[model_checkpoint]\n",
        ")"
      ],
      "execution_count": null,
      "outputs": [
        {
          "output_type": "stream",
          "text": [
            "Epoch 1/3\n",
            "2368/2368 [==============================] - 319s 116ms/step - loss: 1.8199 - accuracy: 0.5584 - val_loss: 1.2412 - val_accuracy: 0.6793\n",
            "Epoch 2/3\n",
            "2368/2368 [==============================] - 262s 110ms/step - loss: 1.2921 - accuracy: 0.6669 - val_loss: 1.1326 - val_accuracy: 0.7031\n",
            "Epoch 3/3\n",
            "2368/2368 [==============================] - 263s 110ms/step - loss: 1.1421 - accuracy: 0.7032 - val_loss: 1.0932 - val_accuracy: 0.7074\n"
          ],
          "name": "stdout"
        }
      ]
    },
    {
      "cell_type": "code",
      "metadata": {
        "id": "IWfC1o-rQShY",
        "colab": {
          "base_uri": "https://localhost:8080/"
        },
        "outputId": "86c56e29-d67c-4253-93f5-2d6affc9c810"
      },
      "source": [
        "model_resuts_feature_extractor=model.evaluate(test_data)"
      ],
      "execution_count": null,
      "outputs": [
        {
          "output_type": "stream",
          "text": [
            "790/790 [==============================] - 87s 109ms/step - loss: 1.0858 - accuracy: 0.7067\n"
          ],
          "name": "stdout"
        }
      ]
    },
    {
      "cell_type": "code",
      "metadata": {
        "id": "D_rw3pkyWjcN"
      },
      "source": [
        "# Using fine tuning"
      ],
      "execution_count": null,
      "outputs": []
    },
    {
      "cell_type": "code",
      "metadata": {
        "id": "6rNV0HtBYcA0"
      },
      "source": [
        "base_model.trainable=True\n",
        "for layer in base_model.layers[:-10]:\n",
        "  layer.trainable=False"
      ],
      "execution_count": null,
      "outputs": []
    },
    {
      "cell_type": "code",
      "metadata": {
        "id": "GDgCfZSFZAj6"
      },
      "source": [
        "model.compile(loss=tf.keras.losses.SparseCategoricalCrossentropy(),\n",
        "              optimizer=tf.keras.optimizers.Adam(learning_rate=0.0001),\n",
        "              metrics=['accuracy'])"
      ],
      "execution_count": null,
      "outputs": []
    },
    {
      "cell_type": "code",
      "metadata": {
        "id": "QdNs1qSfZjGB",
        "colab": {
          "base_uri": "https://localhost:8080/"
        },
        "outputId": "b3ab966d-0673-48fb-9856-a2cd501077b6"
      },
      "source": [
        "for layer in model.layers[1].layers:\n",
        "  print(layer.name,layer.trainable,layer.dtype,layer.dtype_policy)"
      ],
      "execution_count": null,
      "outputs": [
        {
          "output_type": "stream",
          "text": [
            "input_1 False float32 <Policy \"float32\">\n",
            "rescaling False float32 <Policy \"mixed_float16\">\n",
            "normalization False float32 <Policy \"mixed_float16\">\n",
            "stem_conv_pad False float32 <Policy \"mixed_float16\">\n",
            "stem_conv False float32 <Policy \"mixed_float16\">\n",
            "stem_bn False float32 <Policy \"mixed_float16\">\n",
            "stem_activation False float32 <Policy \"mixed_float16\">\n",
            "block1a_dwconv False float32 <Policy \"mixed_float16\">\n",
            "block1a_bn False float32 <Policy \"mixed_float16\">\n",
            "block1a_activation False float32 <Policy \"mixed_float16\">\n",
            "block1a_se_squeeze False float32 <Policy \"mixed_float16\">\n",
            "block1a_se_reshape False float32 <Policy \"mixed_float16\">\n",
            "block1a_se_reduce False float32 <Policy \"mixed_float16\">\n",
            "block1a_se_expand False float32 <Policy \"mixed_float16\">\n",
            "block1a_se_excite False float32 <Policy \"mixed_float16\">\n",
            "block1a_project_conv False float32 <Policy \"mixed_float16\">\n",
            "block1a_project_bn False float32 <Policy \"mixed_float16\">\n",
            "block2a_expand_conv False float32 <Policy \"mixed_float16\">\n",
            "block2a_expand_bn False float32 <Policy \"mixed_float16\">\n",
            "block2a_expand_activation False float32 <Policy \"mixed_float16\">\n",
            "block2a_dwconv_pad False float32 <Policy \"mixed_float16\">\n",
            "block2a_dwconv False float32 <Policy \"mixed_float16\">\n",
            "block2a_bn False float32 <Policy \"mixed_float16\">\n",
            "block2a_activation False float32 <Policy \"mixed_float16\">\n",
            "block2a_se_squeeze False float32 <Policy \"mixed_float16\">\n",
            "block2a_se_reshape False float32 <Policy \"mixed_float16\">\n",
            "block2a_se_reduce False float32 <Policy \"mixed_float16\">\n",
            "block2a_se_expand False float32 <Policy \"mixed_float16\">\n",
            "block2a_se_excite False float32 <Policy \"mixed_float16\">\n",
            "block2a_project_conv False float32 <Policy \"mixed_float16\">\n",
            "block2a_project_bn False float32 <Policy \"mixed_float16\">\n",
            "block2b_expand_conv False float32 <Policy \"mixed_float16\">\n",
            "block2b_expand_bn False float32 <Policy \"mixed_float16\">\n",
            "block2b_expand_activation False float32 <Policy \"mixed_float16\">\n",
            "block2b_dwconv False float32 <Policy \"mixed_float16\">\n",
            "block2b_bn False float32 <Policy \"mixed_float16\">\n",
            "block2b_activation False float32 <Policy \"mixed_float16\">\n",
            "block2b_se_squeeze False float32 <Policy \"mixed_float16\">\n",
            "block2b_se_reshape False float32 <Policy \"mixed_float16\">\n",
            "block2b_se_reduce False float32 <Policy \"mixed_float16\">\n",
            "block2b_se_expand False float32 <Policy \"mixed_float16\">\n",
            "block2b_se_excite False float32 <Policy \"mixed_float16\">\n",
            "block2b_project_conv False float32 <Policy \"mixed_float16\">\n",
            "block2b_project_bn False float32 <Policy \"mixed_float16\">\n",
            "block2b_drop False float32 <Policy \"mixed_float16\">\n",
            "block2b_add False float32 <Policy \"mixed_float16\">\n",
            "block3a_expand_conv False float32 <Policy \"mixed_float16\">\n",
            "block3a_expand_bn False float32 <Policy \"mixed_float16\">\n",
            "block3a_expand_activation False float32 <Policy \"mixed_float16\">\n",
            "block3a_dwconv_pad False float32 <Policy \"mixed_float16\">\n",
            "block3a_dwconv False float32 <Policy \"mixed_float16\">\n",
            "block3a_bn False float32 <Policy \"mixed_float16\">\n",
            "block3a_activation False float32 <Policy \"mixed_float16\">\n",
            "block3a_se_squeeze False float32 <Policy \"mixed_float16\">\n",
            "block3a_se_reshape False float32 <Policy \"mixed_float16\">\n",
            "block3a_se_reduce False float32 <Policy \"mixed_float16\">\n",
            "block3a_se_expand False float32 <Policy \"mixed_float16\">\n",
            "block3a_se_excite False float32 <Policy \"mixed_float16\">\n",
            "block3a_project_conv False float32 <Policy \"mixed_float16\">\n",
            "block3a_project_bn False float32 <Policy \"mixed_float16\">\n",
            "block3b_expand_conv False float32 <Policy \"mixed_float16\">\n",
            "block3b_expand_bn False float32 <Policy \"mixed_float16\">\n",
            "block3b_expand_activation False float32 <Policy \"mixed_float16\">\n",
            "block3b_dwconv False float32 <Policy \"mixed_float16\">\n",
            "block3b_bn False float32 <Policy \"mixed_float16\">\n",
            "block3b_activation False float32 <Policy \"mixed_float16\">\n",
            "block3b_se_squeeze False float32 <Policy \"mixed_float16\">\n",
            "block3b_se_reshape False float32 <Policy \"mixed_float16\">\n",
            "block3b_se_reduce False float32 <Policy \"mixed_float16\">\n",
            "block3b_se_expand False float32 <Policy \"mixed_float16\">\n",
            "block3b_se_excite False float32 <Policy \"mixed_float16\">\n",
            "block3b_project_conv False float32 <Policy \"mixed_float16\">\n",
            "block3b_project_bn False float32 <Policy \"mixed_float16\">\n",
            "block3b_drop False float32 <Policy \"mixed_float16\">\n",
            "block3b_add False float32 <Policy \"mixed_float16\">\n",
            "block4a_expand_conv False float32 <Policy \"mixed_float16\">\n",
            "block4a_expand_bn False float32 <Policy \"mixed_float16\">\n",
            "block4a_expand_activation False float32 <Policy \"mixed_float16\">\n",
            "block4a_dwconv_pad False float32 <Policy \"mixed_float16\">\n",
            "block4a_dwconv False float32 <Policy \"mixed_float16\">\n",
            "block4a_bn False float32 <Policy \"mixed_float16\">\n",
            "block4a_activation False float32 <Policy \"mixed_float16\">\n",
            "block4a_se_squeeze False float32 <Policy \"mixed_float16\">\n",
            "block4a_se_reshape False float32 <Policy \"mixed_float16\">\n",
            "block4a_se_reduce False float32 <Policy \"mixed_float16\">\n",
            "block4a_se_expand False float32 <Policy \"mixed_float16\">\n",
            "block4a_se_excite False float32 <Policy \"mixed_float16\">\n",
            "block4a_project_conv False float32 <Policy \"mixed_float16\">\n",
            "block4a_project_bn False float32 <Policy \"mixed_float16\">\n",
            "block4b_expand_conv False float32 <Policy \"mixed_float16\">\n",
            "block4b_expand_bn False float32 <Policy \"mixed_float16\">\n",
            "block4b_expand_activation False float32 <Policy \"mixed_float16\">\n",
            "block4b_dwconv False float32 <Policy \"mixed_float16\">\n",
            "block4b_bn False float32 <Policy \"mixed_float16\">\n",
            "block4b_activation False float32 <Policy \"mixed_float16\">\n",
            "block4b_se_squeeze False float32 <Policy \"mixed_float16\">\n",
            "block4b_se_reshape False float32 <Policy \"mixed_float16\">\n",
            "block4b_se_reduce False float32 <Policy \"mixed_float16\">\n",
            "block4b_se_expand False float32 <Policy \"mixed_float16\">\n",
            "block4b_se_excite False float32 <Policy \"mixed_float16\">\n",
            "block4b_project_conv False float32 <Policy \"mixed_float16\">\n",
            "block4b_project_bn False float32 <Policy \"mixed_float16\">\n",
            "block4b_drop False float32 <Policy \"mixed_float16\">\n",
            "block4b_add False float32 <Policy \"mixed_float16\">\n",
            "block4c_expand_conv False float32 <Policy \"mixed_float16\">\n",
            "block4c_expand_bn False float32 <Policy \"mixed_float16\">\n",
            "block4c_expand_activation False float32 <Policy \"mixed_float16\">\n",
            "block4c_dwconv False float32 <Policy \"mixed_float16\">\n",
            "block4c_bn False float32 <Policy \"mixed_float16\">\n",
            "block4c_activation False float32 <Policy \"mixed_float16\">\n",
            "block4c_se_squeeze False float32 <Policy \"mixed_float16\">\n",
            "block4c_se_reshape False float32 <Policy \"mixed_float16\">\n",
            "block4c_se_reduce False float32 <Policy \"mixed_float16\">\n",
            "block4c_se_expand False float32 <Policy \"mixed_float16\">\n",
            "block4c_se_excite False float32 <Policy \"mixed_float16\">\n",
            "block4c_project_conv False float32 <Policy \"mixed_float16\">\n",
            "block4c_project_bn False float32 <Policy \"mixed_float16\">\n",
            "block4c_drop False float32 <Policy \"mixed_float16\">\n",
            "block4c_add False float32 <Policy \"mixed_float16\">\n",
            "block5a_expand_conv False float32 <Policy \"mixed_float16\">\n",
            "block5a_expand_bn False float32 <Policy \"mixed_float16\">\n",
            "block5a_expand_activation False float32 <Policy \"mixed_float16\">\n",
            "block5a_dwconv False float32 <Policy \"mixed_float16\">\n",
            "block5a_bn False float32 <Policy \"mixed_float16\">\n",
            "block5a_activation False float32 <Policy \"mixed_float16\">\n",
            "block5a_se_squeeze False float32 <Policy \"mixed_float16\">\n",
            "block5a_se_reshape False float32 <Policy \"mixed_float16\">\n",
            "block5a_se_reduce False float32 <Policy \"mixed_float16\">\n",
            "block5a_se_expand False float32 <Policy \"mixed_float16\">\n",
            "block5a_se_excite False float32 <Policy \"mixed_float16\">\n",
            "block5a_project_conv False float32 <Policy \"mixed_float16\">\n",
            "block5a_project_bn False float32 <Policy \"mixed_float16\">\n",
            "block5b_expand_conv False float32 <Policy \"mixed_float16\">\n",
            "block5b_expand_bn False float32 <Policy \"mixed_float16\">\n",
            "block5b_expand_activation False float32 <Policy \"mixed_float16\">\n",
            "block5b_dwconv False float32 <Policy \"mixed_float16\">\n",
            "block5b_bn False float32 <Policy \"mixed_float16\">\n",
            "block5b_activation False float32 <Policy \"mixed_float16\">\n",
            "block5b_se_squeeze False float32 <Policy \"mixed_float16\">\n",
            "block5b_se_reshape False float32 <Policy \"mixed_float16\">\n",
            "block5b_se_reduce False float32 <Policy \"mixed_float16\">\n",
            "block5b_se_expand False float32 <Policy \"mixed_float16\">\n",
            "block5b_se_excite False float32 <Policy \"mixed_float16\">\n",
            "block5b_project_conv False float32 <Policy \"mixed_float16\">\n",
            "block5b_project_bn False float32 <Policy \"mixed_float16\">\n",
            "block5b_drop False float32 <Policy \"mixed_float16\">\n",
            "block5b_add False float32 <Policy \"mixed_float16\">\n",
            "block5c_expand_conv False float32 <Policy \"mixed_float16\">\n",
            "block5c_expand_bn False float32 <Policy \"mixed_float16\">\n",
            "block5c_expand_activation False float32 <Policy \"mixed_float16\">\n",
            "block5c_dwconv False float32 <Policy \"mixed_float16\">\n",
            "block5c_bn False float32 <Policy \"mixed_float16\">\n",
            "block5c_activation False float32 <Policy \"mixed_float16\">\n",
            "block5c_se_squeeze False float32 <Policy \"mixed_float16\">\n",
            "block5c_se_reshape False float32 <Policy \"mixed_float16\">\n",
            "block5c_se_reduce False float32 <Policy \"mixed_float16\">\n",
            "block5c_se_expand False float32 <Policy \"mixed_float16\">\n",
            "block5c_se_excite False float32 <Policy \"mixed_float16\">\n",
            "block5c_project_conv False float32 <Policy \"mixed_float16\">\n",
            "block5c_project_bn False float32 <Policy \"mixed_float16\">\n",
            "block5c_drop False float32 <Policy \"mixed_float16\">\n",
            "block5c_add False float32 <Policy \"mixed_float16\">\n",
            "block6a_expand_conv False float32 <Policy \"mixed_float16\">\n",
            "block6a_expand_bn False float32 <Policy \"mixed_float16\">\n",
            "block6a_expand_activation False float32 <Policy \"mixed_float16\">\n",
            "block6a_dwconv_pad False float32 <Policy \"mixed_float16\">\n",
            "block6a_dwconv False float32 <Policy \"mixed_float16\">\n",
            "block6a_bn False float32 <Policy \"mixed_float16\">\n",
            "block6a_activation False float32 <Policy \"mixed_float16\">\n",
            "block6a_se_squeeze False float32 <Policy \"mixed_float16\">\n",
            "block6a_se_reshape False float32 <Policy \"mixed_float16\">\n",
            "block6a_se_reduce False float32 <Policy \"mixed_float16\">\n",
            "block6a_se_expand False float32 <Policy \"mixed_float16\">\n",
            "block6a_se_excite False float32 <Policy \"mixed_float16\">\n",
            "block6a_project_conv False float32 <Policy \"mixed_float16\">\n",
            "block6a_project_bn False float32 <Policy \"mixed_float16\">\n",
            "block6b_expand_conv False float32 <Policy \"mixed_float16\">\n",
            "block6b_expand_bn False float32 <Policy \"mixed_float16\">\n",
            "block6b_expand_activation False float32 <Policy \"mixed_float16\">\n",
            "block6b_dwconv False float32 <Policy \"mixed_float16\">\n",
            "block6b_bn False float32 <Policy \"mixed_float16\">\n",
            "block6b_activation False float32 <Policy \"mixed_float16\">\n",
            "block6b_se_squeeze False float32 <Policy \"mixed_float16\">\n",
            "block6b_se_reshape False float32 <Policy \"mixed_float16\">\n",
            "block6b_se_reduce False float32 <Policy \"mixed_float16\">\n",
            "block6b_se_expand False float32 <Policy \"mixed_float16\">\n",
            "block6b_se_excite False float32 <Policy \"mixed_float16\">\n",
            "block6b_project_conv False float32 <Policy \"mixed_float16\">\n",
            "block6b_project_bn False float32 <Policy \"mixed_float16\">\n",
            "block6b_drop False float32 <Policy \"mixed_float16\">\n",
            "block6b_add False float32 <Policy \"mixed_float16\">\n",
            "block6c_expand_conv False float32 <Policy \"mixed_float16\">\n",
            "block6c_expand_bn False float32 <Policy \"mixed_float16\">\n",
            "block6c_expand_activation False float32 <Policy \"mixed_float16\">\n",
            "block6c_dwconv False float32 <Policy \"mixed_float16\">\n",
            "block6c_bn False float32 <Policy \"mixed_float16\">\n",
            "block6c_activation False float32 <Policy \"mixed_float16\">\n",
            "block6c_se_squeeze False float32 <Policy \"mixed_float16\">\n",
            "block6c_se_reshape False float32 <Policy \"mixed_float16\">\n",
            "block6c_se_reduce False float32 <Policy \"mixed_float16\">\n",
            "block6c_se_expand False float32 <Policy \"mixed_float16\">\n",
            "block6c_se_excite False float32 <Policy \"mixed_float16\">\n",
            "block6c_project_conv False float32 <Policy \"mixed_float16\">\n",
            "block6c_project_bn False float32 <Policy \"mixed_float16\">\n",
            "block6c_drop False float32 <Policy \"mixed_float16\">\n",
            "block6c_add False float32 <Policy \"mixed_float16\">\n",
            "block6d_expand_conv False float32 <Policy \"mixed_float16\">\n",
            "block6d_expand_bn False float32 <Policy \"mixed_float16\">\n",
            "block6d_expand_activation False float32 <Policy \"mixed_float16\">\n",
            "block6d_dwconv False float32 <Policy \"mixed_float16\">\n",
            "block6d_bn False float32 <Policy \"mixed_float16\">\n",
            "block6d_activation False float32 <Policy \"mixed_float16\">\n",
            "block6d_se_squeeze False float32 <Policy \"mixed_float16\">\n",
            "block6d_se_reshape False float32 <Policy \"mixed_float16\">\n",
            "block6d_se_reduce False float32 <Policy \"mixed_float16\">\n",
            "block6d_se_expand False float32 <Policy \"mixed_float16\">\n",
            "block6d_se_excite False float32 <Policy \"mixed_float16\">\n",
            "block6d_project_conv False float32 <Policy \"mixed_float16\">\n",
            "block6d_project_bn False float32 <Policy \"mixed_float16\">\n",
            "block6d_drop False float32 <Policy \"mixed_float16\">\n",
            "block6d_add False float32 <Policy \"mixed_float16\">\n",
            "block7a_expand_conv False float32 <Policy \"mixed_float16\">\n",
            "block7a_expand_bn False float32 <Policy \"mixed_float16\">\n",
            "block7a_expand_activation False float32 <Policy \"mixed_float16\">\n",
            "block7a_dwconv False float32 <Policy \"mixed_float16\">\n",
            "block7a_bn False float32 <Policy \"mixed_float16\">\n",
            "block7a_activation False float32 <Policy \"mixed_float16\">\n",
            "block7a_se_squeeze True float32 <Policy \"mixed_float16\">\n",
            "block7a_se_reshape True float32 <Policy \"mixed_float16\">\n",
            "block7a_se_reduce True float32 <Policy \"mixed_float16\">\n",
            "block7a_se_expand True float32 <Policy \"mixed_float16\">\n",
            "block7a_se_excite True float32 <Policy \"mixed_float16\">\n",
            "block7a_project_conv True float32 <Policy \"mixed_float16\">\n",
            "block7a_project_bn True float32 <Policy \"mixed_float16\">\n",
            "top_conv True float32 <Policy \"mixed_float16\">\n",
            "top_bn True float32 <Policy \"mixed_float16\">\n",
            "top_activation True float32 <Policy \"mixed_float16\">\n"
          ],
          "name": "stdout"
        }
      ]
    },
    {
      "cell_type": "code",
      "metadata": {
        "id": "y9Yq-V9aZxTS",
        "colab": {
          "base_uri": "https://localhost:8080/"
        },
        "outputId": "c6b6a39b-0e16-469a-b3c7-3f87a4cd9144"
      },
      "source": [
        "len(model.trainable_variables)"
      ],
      "execution_count": null,
      "outputs": [
        {
          "output_type": "execute_result",
          "data": {
            "text/plain": [
              "12"
            ]
          },
          "metadata": {},
          "execution_count": 52
        }
      ]
    },
    {
      "cell_type": "code",
      "metadata": {
        "id": "EoFsmxaCaDmC"
      },
      "source": [
        "earlystopping_callback=tf.keras.callbacks.EarlyStopping(monitor='val_loss',patience=3)"
      ],
      "execution_count": null,
      "outputs": []
    },
    {
      "cell_type": "code",
      "metadata": {
        "id": "bBL75VTAbxds"
      },
      "source": [
        "checkpoint_fine_tuning_path='model_checkpoint_fine_tuning/cp.ckpt'"
      ],
      "execution_count": null,
      "outputs": []
    },
    {
      "cell_type": "code",
      "metadata": {
        "id": "sVkbprwCc4hF"
      },
      "source": [
        "model_checkpoint_fine_tuning=tf.keras.callbacks.ModelCheckpoint(\n",
        "    checkpoint_fine_tuning_path,\n",
        "    monitor='val_loss',\n",
        "    save_best_only=True,\n",
        "    save_weights_only=True\n",
        ")"
      ],
      "execution_count": null,
      "outputs": []
    },
    {
      "cell_type": "code",
      "metadata": {
        "id": "3w3H3ix5dcv9"
      },
      "source": [
        "# training the model with fine tuning "
      ],
      "execution_count": null,
      "outputs": []
    },
    {
      "cell_type": "code",
      "metadata": {
        "id": "Y3PFAAsGdsQY"
      },
      "source": [
        "#history_101_food_classes_fine_tuning=model.fit(\n",
        "#    train_data,\n",
        "  #  epochs=10,\n",
        " #   steps_per_epoch=len(train_data),\n",
        "  #  validation_data=test_data,\n",
        "  #  validation_steps=int(0.15*len(test_data)),\n",
        "   # callbacks=[earlystopping_callback,model_checkpoint_fine_tuning]\n",
        "#)"
      ],
      "execution_count": null,
      "outputs": []
    },
    {
      "cell_type": "code",
      "metadata": {
        "id": "mxOV-fp2fBRG"
      },
      "source": [
        "# This seems that model is overfitting and val_accuracy is not coming as expected. We will try to unfrozen some more layers as non-trainable"
      ],
      "execution_count": null,
      "outputs": []
    },
    {
      "cell_type": "code",
      "metadata": {
        "id": "CDezW7dnoY5w"
      },
      "source": [
        "base_model.trainable=True\n"
      ],
      "execution_count": null,
      "outputs": []
    },
    {
      "cell_type": "code",
      "metadata": {
        "id": "d5o46DYqp2-d"
      },
      "source": [
        "reduce_learning_rate_callback=tf.keras.callbacks.ReduceLROnPlateau(monitor='val_loss',factor=0.2,patience=2,verbose=1,min_lr=1e-7)"
      ],
      "execution_count": null,
      "outputs": []
    },
    {
      "cell_type": "code",
      "metadata": {
        "id": "v5OvlAhrsj8H"
      },
      "source": [
        "model.compile(loss=tf.keras.losses.SparseCategoricalCrossentropy(),\n",
        "              optimizer=tf.keras.optimizers.Adam(learning_rate=0.0001),\n",
        "              metrics=['accuracy'])"
      ],
      "execution_count": null,
      "outputs": []
    },
    {
      "cell_type": "code",
      "metadata": {
        "colab": {
          "base_uri": "https://localhost:8080/"
        },
        "id": "5-W-fhr3jRVQ",
        "outputId": "56cd37bf-5f16-4245-f3de-f3bfd3e61a1a"
      },
      "source": [
        "history_101_food_classes_fine_tuning=model.fit(\n",
        "    train_data,\n",
        "    epochs=100,\n",
        "    steps_per_epoch=len(train_data),\n",
        "    validation_data=test_data,\n",
        "    validation_steps=int(0.15*len(test_data)),\n",
        "    callbacks=[earlystopping_callback,model_checkpoint_fine_tuning,reduce_learning_rate_callback]\n",
        ")"
      ],
      "execution_count": null,
      "outputs": [
        {
          "output_type": "stream",
          "text": [
            "Epoch 1/100\n",
            "2368/2368 [==============================] - 1211s 498ms/step - loss: 0.4251 - accuracy: 0.8737 - val_loss: 1.0217 - val_accuracy: 0.7495\n",
            "Epoch 2/100\n",
            "2368/2368 [==============================] - 1168s 492ms/step - loss: 0.2461 - accuracy: 0.9274 - val_loss: 1.0800 - val_accuracy: 0.7635\n",
            "Epoch 3/100\n",
            "2368/2368 [==============================] - 1161s 489ms/step - loss: 0.1560 - accuracy: 0.9523 - val_loss: 1.2218 - val_accuracy: 0.7368\n",
            "\n",
            "Epoch 00003: ReduceLROnPlateau reducing learning rate to 1.9999999494757503e-05.\n",
            "Epoch 4/100\n",
            "2368/2368 [==============================] - 1156s 487ms/step - loss: 0.0321 - accuracy: 0.9926 - val_loss: 1.2401 - val_accuracy: 0.7789\n"
          ],
          "name": "stdout"
        }
      ]
    },
    {
      "cell_type": "code",
      "metadata": {
        "colab": {
          "base_uri": "https://localhost:8080/"
        },
        "id": "IVMrMhnVj85Q",
        "outputId": "1c395f62-7c19-482c-d8e6-5ac7ec0b0ed7"
      },
      "source": [
        "model_resuts_fine_tuning=model.evaluate(test_data)"
      ],
      "execution_count": null,
      "outputs": [
        {
          "output_type": "stream",
          "text": [
            "790/790 [==============================] - 80s 100ms/step - loss: 1.1990 - accuracy: 0.7730\n"
          ],
          "name": "stdout"
        }
      ]
    },
    {
      "cell_type": "code",
      "metadata": {
        "colab": {
          "base_uri": "https://localhost:8080/",
          "height": 573
        },
        "id": "HwZbQX11PSxx",
        "outputId": "5c1721ae-cee7-48e6-84ce-6a21b5f00a67"
      },
      "source": [
        "plot_loss_curves(history_101_food_classes_fine_tuning)"
      ],
      "execution_count": null,
      "outputs": [
        {
          "output_type": "display_data",
          "data": {
            "image/png": "[encoded data removed]",
            "text/plain": [
              "<Figure size 432x288 with 1 Axes>"
            ]
          },
          "metadata": {
            "needs_background": "light"
          }
        },
        {
          "output_type": "display_data",
          "data": {
            "image/png": "[encoded data removed]",
            "text/plain": [
              "<Figure size 432x288 with 1 Axes>"
            ]
          },
          "metadata": {
            "needs_background": "light"
          }
        }
      ]
    },
    {
      "cell_type": "code",
      "metadata": {
        "id": "KcZovW86oyko"
      },
      "source": [
        ""
      ],
      "execution_count": null,
      "outputs": []
    }
  ]
}